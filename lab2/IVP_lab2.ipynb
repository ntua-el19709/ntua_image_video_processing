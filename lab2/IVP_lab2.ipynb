{
  "cells": [
    {
      "cell_type": "markdown",
      "metadata": {
        "id": "LpnEVMCYYlnD"
      },
      "source": [
        "#LAB 2"
      ]
    },
    {
      "cell_type": "markdown",
      "metadata": {
        "id": "snEr7PY8XD2Y"
      },
      "source": [
        "##1. Θεωρητικό Μέρος"
      ]
    },
    {
      "cell_type": "markdown",
      "metadata": {
        "id": "3T85gkyyXEmt"
      },
      "source": [
        "###1. Παρουσιάστε ένα συγκριτικό πίνακα με τα επίπεδα, το μέγεθος των φίλτρων, συνάρτηση ενεργοποίησης, πλήθος παραμέτρων και τεχνικές pooling και dropout που χρησιμοποιούν"
      ]
    },
    {
      "cell_type": "markdown",
      "metadata": {
        "id": "CwZn9bXIXHF9"
      },
      "source": [
        "Χαρακτηριστικά | LeNet | AlexNet|VGG\n",
        "--- | --- | ---|---\n",
        "Layers | Input: 28x28x1,<br> 4 hidden:<br>H1: 24x24x4<br>H2: 12x12x4<br>H3: 8x8x12<br>H4: 4x4x12<br>Output: 10x1 | Input: 256x256x3<br>5 Convolutional:<br>C1: 55x55x96<br>C2: 27x27x256<br>C3-5: 13x13x384<br>3 Pooling layers:<br>P1: 27x27x96 after C1<br>P2: 13x13x256 after C2<br>P3: 6x6x256 after C5<br>3 fully connected, 2 with<br>4096 neurons, 1 with 1000<br>Output: 1000 softmax neurons|Input: 224x224x3<br>5 blocks of conv layers<br>each followed by pooling<br>3 fully connected, 2 with<br>4096 neurons, 1 with 1000<br>Output: 1000 softmax neurons\n",
        "Filter Size |5x5 for layers H1 and H3|C1: 11x11x3<br>C2: 5x5x48<br>C3: 3x3x256<br>C4-5: 3x3x192| 3x3 and 1x1 input window\n",
        "Activation function|Sigmoid|ReLU|ReLU\n",
        "Number of parameters|2578|around 60 million|133-144 million\n",
        "Pooling|Average pooling for layers<br>H2 and H4, 2x2 input<br>window, stride 2|Max overlapping pooling<br>with 3x3 input and stride 2|Max pooling with 2x2 input<br>window and stride 2\n",
        "Dropout|No dropout|Dropout for the first 2<br>fully connected layers|Dropout for the first 2<br>fully connected layers"
      ]
    },
    {
      "cell_type": "markdown",
      "metadata": {
        "id": "iJfnc-JbXJwv"
      },
      "source": [
        "###2. Ποιες είναι οι βασικές διαφορές στην αρχιτεκτονική και την απόδοση μεταξύ των τριών δικτύων;"
      ]
    },
    {
      "cell_type": "markdown",
      "metadata": {
        "id": "JiclCXxdXMOt"
      },
      "source": [
        "####Αρχιτεκτονική"
      ]
    },
    {
      "cell_type": "markdown",
      "metadata": {
        "id": "EIjoeyjXXO-9"
      },
      "source": [
        "Τα τρία μοντέλα είναι αρκετά διαφορετικά μεταξύ τους. Εκτός από τις διαφορές στη δομή τους, οι οποίες φαίνονται από τον πίνακα του προηγούμενου ερωτήματος, αξίζει να σημειωθεί ότι:\n",
        "- το LeNet δεν έχει κάποιο κρυφό στρώμα που να είναι fully connected.\n",
        "- το AlexNet τρέχει σε 2 GPU επεξεργαστές, όπου ο κάθε ένας έχει τους μισούς νευρώνες. Εκτός άλλων, αυτή η αρχιτεκτονική είναι και ελαφρώς πιο γρήγορη στην εκπαίδευση του μοντέλου.\n",
        "- τα μοντέλα VGG χρησιμοποιούν γενικά μικρά φίλτρα (3x3, 1x1), τα οποία αν χρησιμοποιηθούν σε σειρά μπορούν να 'μιμηθούν' τη συμπεριφορά μεγαλύτερων φίλτρων (5x5, 7x7, 11x11), αλλά με σημαντικά λιγότερες παραμέτρους."
      ]
    },
    {
      "cell_type": "markdown",
      "metadata": {
        "id": "rk064qZ5XR42"
      },
      "source": [
        "####Απόδοση"
      ]
    },
    {
      "cell_type": "markdown",
      "metadata": {
        "id": "5rcU5-VeXT7V"
      },
      "source": [
        "Είναι σχετικά δύσκολο να συγκρίνουμε το LeNet με τα άλλα 2 μοντέλα λόγω του ότι είναι σχεδιασμένα για διαφορετικά προβλήματα (το LeNet είναι για digit recognition, ενώ τα άλλα 2 για το ImageNet challenge). Ωστόσο συγκρίνουμε τον χρόνο εκπαίδευσης, και παρουσιάζουμε τα αποτελέσματα του κάθε μοντέλου παρακάτω.\n",
        "\n",
        "---|LeNet|AlexNet|VGG\n",
        "---|---|---|---\n",
        "Training time|about 3 days|between 5-6 days|2-3 weeks\n",
        "\n",
        "Οι χρόνοι αυτοί δικαιολογούνται από το γεγονός ότι πιο πολύπλοκα μοντέλα χρειάζονται περισσότερο χρόνο για να εκπαιδευτούν, αφού έχουν πολύ περισσότερες παραμέτρους.\n",
        "Το LeNet πετυχαίνει error rate 3.4% σε όλο το test set.\n",
        "Για το AlexNet και τα VGG τα καλύτερα αποτελέσματα φαίνονται στον παρακάτω πίνακα.\n",
        "\n",
        "Error Rate|AlexNet|VGG\n",
        "---|---|---\n",
        "Top-1|37.5%|23.7%\n",
        "Top-5|17.0%|6.8%\n",
        "\n",
        "Παρατηρούμε ότι τα αποτελέσματα του VGG είναι σημαντικά καλύτερα από αυτά του AlexNet. Ωστόσο ο χρόνος εκπαίδευσης του AlexNet είναι 3 φορές μικρότερος από του VGG."
      ]
    },
    {
      "cell_type": "markdown",
      "metadata": {
        "id": "4SbIoK5xYHN9"
      },
      "source": [
        "##2. Υλοποίηση Αλγορίθμου"
      ]
    },
    {
      "cell_type": "markdown",
      "metadata": {
        "id": "DfEMjsB4Yurm"
      },
      "source": [
        "### Εισαγωγή και επισκόπηση του συνόλου δεδομένων"
      ]
    },
    {
      "cell_type": "code",
      "execution_count": null,
      "metadata": {
        "id": "STXQMBuN3nZ6"
      },
      "outputs": [],
      "source": [
        "from __future__ import absolute_import, division, print_function, unicode_literals # legacy compatibility\n",
        "\n",
        "import numpy as np\n",
        "import pandas as pd\n",
        "import matplotlib.pyplot as plt"
      ]
    },
    {
      "cell_type": "code",
      "execution_count": null,
      "metadata": {
        "id": "2WSEGPI9Q7tW"
      },
      "outputs": [],
      "source": [
        "# helper functions\n",
        "\n",
        "# select from from_list elements with index in index_list\n",
        "def select_from_list(from_list, index_list):\n",
        "  filtered_list= [from_list[i] for i in index_list]\n",
        "  return(filtered_list)\n",
        "\n",
        "# append in filtered_list the index of each element of unfilterd_list if it exists in in target_list\n",
        "def get_ds_index(unfiliterd_list, target_list):\n",
        "  index = 0\n",
        "  filtered_list=[]\n",
        "  for i_ in unfiliterd_list:\n",
        "    if i_[0] in target_list:\n",
        "      filtered_list.append(index)\n",
        "    index += 1\n",
        "  return(filtered_list)\n"
      ]
    },
    {
      "cell_type": "code",
      "execution_count": null,
      "metadata": {
        "colab": {
          "base_uri": "https://localhost:8080/"
        },
        "id": "OCW71UaGzz0Q",
        "outputId": "f2f864d0-6d4c-4b98-c34b-1ff13cee2c8f"
      },
      "outputs": [
        {
          "name": "stdout",
          "output_type": "stream",
          "text": [
            "Downloading data from https://www.cs.toronto.edu/~kriz/cifar-100-python.tar.gz\n",
            "169001437/169001437 [==============================] - 3s 0us/step\n"
          ]
        }
      ],
      "source": [
        "# load the entire dataset\n",
        "import tensorflow as tf\n",
        "from tensorflow.keras import datasets, layers, models\n",
        "\n",
        "(x_train_all, y_train_all), (x_test_all, y_test_all) = tf.keras.datasets.cifar100.load_data(label_mode='fine')"
      ]
    },
    {
      "cell_type": "code",
      "execution_count": null,
      "metadata": {
        "colab": {
          "base_uri": "https://localhost:8080/"
        },
        "id": "kGKYHffEE1do",
        "outputId": "17663bce-35b6-41f6-ea0b-89f1525b549e"
      },
      "outputs": [
        {
          "name": "stdout",
          "output_type": "stream",
          "text": [
            "(50000, 32, 32, 3)\n"
          ]
        }
      ],
      "source": [
        "print(x_train_all.shape)"
      ]
    },
    {
      "cell_type": "markdown",
      "metadata": {
        "id": "9PO9wIwYUf0R"
      },
      "source": [
        "Η κάθε ομάδα θα δουλέψει με διαφορετικό υποσύνολο του dataset.\n",
        "Στο επόμενο κελί, αντικαταστήστε την τιμή της μεταβλητής `team_seed` με τον αριθμό που αντιστοιχεί στην ομάδας σας."
      ]
    },
    {
      "cell_type": "code",
      "execution_count": null,
      "metadata": {
        "id": "NN0kEze7uZ_G"
      },
      "outputs": [],
      "source": [
        "# REPLACE WITH YOUR TEAM NUMBER\n",
        "team_seed = 55"
      ]
    },
    {
      "cell_type": "code",
      "execution_count": null,
      "metadata": {
        "id": "RhbZJW6PxUDJ"
      },
      "outputs": [],
      "source": [
        "# select from CIFAR100 20 classes\n",
        "cifar100_classes_url = \"https://pastebin.com/raw/nzE1n98V\""
      ]
    },
    {
      "cell_type": "markdown",
      "metadata": {
        "id": "yO9f6wb0Wi0H"
      },
      "source": [
        "Δημιουργούμε το μοναδικό dataset της ομάδας μας:"
      ]
    },
    {
      "cell_type": "code",
      "execution_count": null,
      "metadata": {
        "id": "PgIN2h_KuCp_"
      },
      "outputs": [],
      "source": [
        "team_classes = pd.read_csv(cifar100_classes_url, sep=',', header=None)\n",
        "CIFAR100_LABELS_LIST = pd.read_csv('https://pastebin.com/raw/qgDaNggt', sep=',', header=None).astype(str).values.tolist()[0]\n",
        "\n",
        "our_index = team_classes.iloc[team_seed,:].values.tolist()\n",
        "our_classes = select_from_list(CIFAR100_LABELS_LIST, our_index)\n",
        "train_index = get_ds_index(y_train_all, our_index)\n",
        "test_index = get_ds_index(y_test_all, our_index)\n",
        "\n",
        "x_train_ds = np.asarray(select_from_list(x_train_all, train_index))\n",
        "y_train_ds = np.asarray(select_from_list(y_train_all, train_index))\n",
        "x_test_ds = np.asarray(select_from_list(x_test_all, test_index))\n",
        "y_test_ds = np.asarray(select_from_list(y_test_all, test_index))"
      ]
    },
    {
      "cell_type": "code",
      "execution_count": null,
      "metadata": {
        "colab": {
          "base_uri": "https://localhost:8080/"
        },
        "id": "_B4-tvVOQq3j",
        "outputId": "31597175-0dbb-476b-f945-819307eada47"
      },
      "outputs": [
        {
          "name": "stdout",
          "output_type": "stream",
          "text": [
            "[' baby', ' bee', ' caterpillar', ' cockroach', ' crab', ' dinosaur', ' girl', ' leopard', ' lobster', ' mushroom', ' otter', ' pickup_truck', ' poppy', ' rabbit', ' seal', ' squirrel', ' sunflower', ' table', ' tiger', ' wolf']\n"
          ]
        }
      ],
      "source": [
        "# print our classes\n",
        "print(our_classes)"
      ]
    },
    {
      "cell_type": "code",
      "execution_count": null,
      "metadata": {
        "colab": {
          "base_uri": "https://localhost:8080/"
        },
        "id": "bk5wy0u7GGMj",
        "outputId": "df0717fc-b454-45cf-fe52-7728721bec23"
      },
      "outputs": [
        {
          "name": "stdout",
          "output_type": "stream",
          "text": [
            "(32, 32, 3)\n"
          ]
        }
      ],
      "source": [
        "print(x_train_ds[1].shape)"
      ]
    },
    {
      "cell_type": "code",
      "execution_count": null,
      "metadata": {
        "colab": {
          "base_uri": "https://localhost:8080/",
          "height": 597
        },
        "id": "QpGXgTs_5ZCk",
        "outputId": "956aa1b2-8d63-43c9-8e35-f87a3f44eaee"
      },
      "outputs": [
        {
          "name": "stdout",
          "output_type": "stream",
          "text": [
            "Train: X=(8500, 32, 32, 3), y=(8500, 1)\n",
            "Validation: X=(1500, 32, 32, 3), y=(1500, 1)\n",
            "Test: X=(2000, 32, 32, 3), y=(2000, 1)\n"
          ]
        },
        {
          "data": {
            "image/png": "[encoded data removed]",
            "text/plain": [
              "<Figure size 600x600 with 9 Axes>"
            ]
          },
          "metadata": {},
          "output_type": "display_data"
        }
      ],
      "source": [
        "# get (train) dataset dimensions\n",
        "data_size, img_rows, img_cols, img_channels = x_train_ds.shape\n",
        "\n",
        "# set validation set percentage (wrt the training set size)\n",
        "validation_percentage = 0.15\n",
        "val_size = round(validation_percentage * data_size)\n",
        "\n",
        "# Reserve val_size samples for validation and normalize all values\n",
        "x_val = x_train_ds[-val_size:]/255\n",
        "y_val = y_train_ds[-val_size:]\n",
        "x_train = x_train_ds[:-val_size]/255\n",
        "y_train = y_train_ds[:-val_size]\n",
        "x_test = x_test_ds/255\n",
        "y_test = y_test_ds\n",
        "\n",
        "# summarize loaded dataset\n",
        "print('Train: X=%s, y=%s' % (x_train.shape, y_train.shape))\n",
        "print('Validation: X=%s, y=%s' % (x_val.shape, y_val.shape))\n",
        "print('Test: X=%s, y=%s' % (x_test.shape, y_test.shape))\n",
        "\n",
        "# get class label from class index\n",
        "def class_label_from_index(fine_category):\n",
        "  return(CIFAR100_LABELS_LIST[fine_category.item(0)])\n",
        "\n",
        "# plot first few images\n",
        "plt.figure(figsize=(6, 6))\n",
        "for i in range(9):\n",
        "\t# define subplot\n",
        "  plt.subplot(330 + 1 + i).set_title(class_label_from_index(y_train[i]))\n",
        "\t# plot raw pixel data\n",
        "  plt.imshow(x_train[i], cmap=plt.get_cmap('gray'))\n",
        "  #show the figure\n",
        "plt.show()"
      ]
    },
    {
      "cell_type": "markdown",
      "metadata": {
        "id": "iAgowxR8oJH7"
      },
      "source": [
        "### Ερώτημα 1\n",
        "---\n",
        "#### Βήμα 1: Σχεδίαση, μεταγλώττιση και εκπαίδευση των μοντέλων\n",
        "\n",
        " 1. Σχεδίαστε, μεταγλωττίστε και εκπαιδεύστε τα μοντέλα  **LeNet, AlexNet και  VGG**, καθώς και ένα δικό σας μοντέλο (ονομάστε το π.χ. **MyCNN**) χρησιμοποιώντας διαφορετικούς συνδυασμούς (τουλάχιστον 2 ανά μοντέλο) για [optimizer](https://keras.io/api/optimizers/), [loss](https://keras.io/api/losses/), batch size και epoch.  Για [metrics](https://keras.io/api/metrics/) να χρησιμοποιήσετε την ορθότητα - accuracy.\n",
        "---\n",
        "  \n",
        "#### Βήμα 2: Αξιολόγηση των μοντέλων\n",
        "\n",
        "1. Για κάθε ένα από τα μοντέλα που εκπαιδεύσατε, απεικονίστε σε κοινό διάγραμμα την ορθότητα εκπαίδευσης και την ορθότητα επικύρωσης στο σύνολο των εποχών, για κάθε διαφορετικό συνδυασμό του βήματος 1 και επιλέξτε αυτό με την καλύτερη ορθότητα από κάθε μοντέλο (ένα από κάθε αρχιτεκτονική, συνολικά 4).\n",
        "2. Για κάθε ένα από τα μοντέλα με την καλύτερη ορθότητα (συνολικά **4**), απεικονίστε σε κοινό διάγραμμα την ορθότητα εκπαίδευσης και την ορθότητα επικύρωσης στο σύνολο των εποχών.\n",
        "3. Αξιολογήστε, αναλυτικά, τα αποτελέσματά σας ως προς τα εξής:\n",
        " - Επίδραση του πλήθους των δεδομένων/κλάσεων στην απόδοση του μοντέλου\n",
        " - Επίδραση του αλγόριθμου βελτιστοποίησης (optimizer)\n",
        " - Επίδραση του μεγέθους δέσμης (batch size)\n",
        "\n",
        "---\n",
        "\n",
        "#### Βήμα 3: Αξιολόγηση ορθότητας\n",
        "Αξιολογήστε την ορθότητα για το test set σας.\n"
      ]
    },
    {
      "cell_type": "markdown",
      "metadata": {
        "id": "Svy2djLFkon2"
      },
      "source": [
        "### Σχεδίαση"
      ]
    },
    {
      "cell_type": "code",
      "execution_count": null,
      "metadata": {
        "id": "jgQnLGGWlLnH"
      },
      "outputs": [],
      "source": [
        "import numpy as np\n",
        "\n",
        "values = np.unique(y_val)\n",
        "values = np.sort(values)\n",
        "\n",
        "y_val_to20 = np.zeros(len(y_val), dtype=int)\n",
        "for i in range (y_val.shape[0]):\n",
        "  y_val_to20[i] =  np.where(values == y_val[i])[0][0]\n",
        "\n",
        "y_train_to20 = np.zeros(len(y_train), dtype=int)\n",
        "for i in range (y_train.shape[0]):\n",
        "  y_train_to20[i] =  np.where(values == y_train[i])[0][0]\n",
        "\n",
        "y_test_to20 = np.zeros(len(y_test), dtype=int)\n",
        "for i in range (y_test.shape[0]):\n",
        "  y_test_to20[i] =  np.where(values == y_test[i])[0][0]"
      ]
    },
    {
      "cell_type": "code",
      "execution_count": null,
      "metadata": {
        "id": "xCdEyXoP7zee"
      },
      "outputs": [],
      "source": [
        "import tensorflow as tf\n",
        "from tensorflow.keras import datasets, layers, models\n",
        "import matplotlib.pyplot as plt"
      ]
    },
    {
      "cell_type": "markdown",
      "metadata": {
        "id": "YypvCDjEld5I"
      },
      "source": [
        "#### LeNet"
      ]
    },
    {
      "cell_type": "markdown",
      "metadata": {
        "id": "Xmf5z0Y9gzbI"
      },
      "source": [
        "Παρακάτω στήνουμε μια παραλλαγή του LeNet όπως παρουσιάζεται στην υλοποίηση που μας δόθηκε, το οποίο δεν είναι πλέον για αναγνώριση ψηφίων, αλλά για το classification των εικόνων που μας δίνονται. Κάποιες αλλαγές του μοντέλου είναι η διάσταση του επιπέδου εισόδου, του επιπέδου εξόδου, αλλά και η προσθήκη κάποιων fully connected layers."
      ]
    },
    {
      "cell_type": "code",
      "execution_count": null,
      "metadata": {
        "id": "EUpn7P4KhQbX"
      },
      "outputs": [],
      "source": [
        "def LeNet():\n",
        "  model = models.Sequential()\n",
        "  model.add(layers.Conv2D(filters=6, kernel_size=5, activation='sigmoid', padding='same', input_shape=(32, 32, 3)))\n",
        "  model.add(layers.AvgPool2D(pool_size=2, strides=2))\n",
        "  model.add(layers.Conv2D(filters=16, kernel_size=5, activation='sigmoid'))\n",
        "  model.add(layers.AvgPool2D(pool_size=2, strides=2))\n",
        "  model.add(layers.Flatten())\n",
        "  model.add(layers.Dense(120, activation='sigmoid'))\n",
        "  model.add(layers.Dense(84, activation='sigmoid'))\n",
        "  model.add(layers.Dense(20))\n",
        "  return model"
      ]
    },
    {
      "cell_type": "code",
      "execution_count": null,
      "metadata": {
        "colab": {
          "base_uri": "https://localhost:8080/"
        },
        "id": "0Mk5lImdhs8X",
        "outputId": "0f013924-d285-49ef-f861-6295ac3db18c"
      },
      "outputs": [
        {
          "name": "stdout",
          "output_type": "stream",
          "text": [
            "Conv2D output shape: \t (1, 32, 32, 6)\n",
            "AveragePooling2D output shape: \t (1, 16, 16, 6)\n",
            "Conv2D output shape: \t (1, 12, 12, 16)\n",
            "AveragePooling2D output shape: \t (1, 6, 6, 16)\n",
            "Flatten output shape: \t (1, 576)\n",
            "Dense output shape: \t (1, 120)\n",
            "Dense output shape: \t (1, 84)\n",
            "Dense output shape: \t (1, 20)\n",
            "Model: \"sequential_1\"\n",
            "_________________________________________________________________\n",
            " Layer (type)                Output Shape              Param #   \n",
            "=================================================================\n",
            " conv2d_2 (Conv2D)           (None, 32, 32, 6)         456       \n",
            "                                                                 \n",
            " average_pooling2d_2 (Averag  (None, 16, 16, 6)        0         \n",
            " ePooling2D)                                                     \n",
            "                                                                 \n",
            " conv2d_3 (Conv2D)           (None, 12, 12, 16)        2416      \n",
            "                                                                 \n",
            " average_pooling2d_3 (Averag  (None, 6, 6, 16)         0         \n",
            " ePooling2D)                                                     \n",
            "                                                                 \n",
            " flatten_1 (Flatten)         (None, 576)               0         \n",
            "                                                                 \n",
            " dense_3 (Dense)             (None, 120)               69240     \n",
            "                                                                 \n",
            " dense_4 (Dense)             (None, 84)                10164     \n",
            "                                                                 \n",
            " dense_5 (Dense)             (None, 20)                1700      \n",
            "                                                                 \n",
            "=================================================================\n",
            "Total params: 83,976\n",
            "Trainable params: 83,976\n",
            "Non-trainable params: 0\n",
            "_________________________________________________________________\n"
          ]
        }
      ],
      "source": [
        "X = tf.random.uniform((1, 32, 32, 3))\n",
        "for layer in LeNet().layers:\n",
        "    X = layer(X)\n",
        "    print(layer.__class__.__name__, 'output shape: \\t', X.shape)\n",
        "LeNet_model_1 = LeNet()\n",
        "LeNet_model_2 = LeNet()\n",
        "LeNet_model_1.summary()"
      ]
    },
    {
      "cell_type": "markdown",
      "metadata": {
        "id": "Pivo7g86lgFQ"
      },
      "source": [
        "#### AlexNet"
      ]
    },
    {
      "cell_type": "markdown",
      "metadata": {
        "id": "K8CX6lMOiVHW"
      },
      "source": [
        "Παρακάτω φτιάχνουμε ένα μοντέλο AlexNet προσαρμοσμένο για το πρόβλημά μας (με διάσταση εισόδου 32x32x3 αντί 256x256x3, και διάσταση εξόδου 20x1 αντί 1000x1)."
      ]
    },
    {
      "cell_type": "code",
      "execution_count": null,
      "metadata": {
        "id": "1oHU2D9xiHf3"
      },
      "outputs": [],
      "source": [
        "def AlexNet():\n",
        "  model = models.Sequential()\n",
        "  model.add(layers.Conv2D(filters=96, kernel_size=3, strides=2, activation='relu', input_shape=(32, 32, 3)))\n",
        "  model.add(layers.MaxPool2D(pool_size=3, strides=2))\n",
        "  model.add(layers.Conv2D(filters=256, kernel_size=5, padding='same', activation='relu'))\n",
        "  model.add(layers.MaxPool2D(pool_size=3, strides=2))\n",
        "  model.add(layers.Conv2D(filters=384, kernel_size=3, padding='same', activation='relu'))\n",
        "  model.add(layers.Conv2D(filters=384, kernel_size=3, padding='same', activation='relu'))\n",
        "  model.add(layers.Conv2D(filters=256, kernel_size=3, padding='same', activation='relu'))\n",
        "  model.add(layers.MaxPool2D(pool_size=3, strides=2))\n",
        "  model.add(layers.Flatten())\n",
        "  model.add(layers.Dense(4096, activation='relu'))\n",
        "  model.add(layers.Dropout(0.5))\n",
        "  model.add(layers.Dense(4096, activation='relu'))\n",
        "  model.add(layers.Dropout(0.5))\n",
        "  model.add(layers.Dense(20))\n",
        "  return model"
      ]
    },
    {
      "cell_type": "code",
      "execution_count": null,
      "metadata": {
        "colab": {
          "base_uri": "https://localhost:8080/"
        },
        "id": "RY1lcf5Jib73",
        "outputId": "eef8bbb1-0af2-4a1e-b0d2-d69403e099b5"
      },
      "outputs": [
        {
          "name": "stdout",
          "output_type": "stream",
          "text": [
            "Conv2D output shape: \t (1, 15, 15, 96)\n",
            "MaxPooling2D output shape: \t (1, 7, 7, 96)\n",
            "Conv2D output shape: \t (1, 7, 7, 256)\n",
            "MaxPooling2D output shape: \t (1, 3, 3, 256)\n",
            "Conv2D output shape: \t (1, 3, 3, 384)\n",
            "Conv2D output shape: \t (1, 3, 3, 384)\n",
            "Conv2D output shape: \t (1, 3, 3, 256)\n",
            "MaxPooling2D output shape: \t (1, 1, 1, 256)\n",
            "Flatten output shape: \t (1, 256)\n",
            "Dense output shape: \t (1, 4096)\n",
            "Dropout output shape: \t (1, 4096)\n",
            "Dense output shape: \t (1, 4096)\n",
            "Dropout output shape: \t (1, 4096)\n",
            "Dense output shape: \t (1, 20)\n",
            "Model: \"sequential_4\"\n",
            "_________________________________________________________________\n",
            " Layer (type)                Output Shape              Param #   \n",
            "=================================================================\n",
            " conv2d_11 (Conv2D)          (None, 15, 15, 96)        2688      \n",
            "                                                                 \n",
            " max_pooling2d_3 (MaxPooling  (None, 7, 7, 96)         0         \n",
            " 2D)                                                             \n",
            "                                                                 \n",
            " conv2d_12 (Conv2D)          (None, 7, 7, 256)         614656    \n",
            "                                                                 \n",
            " max_pooling2d_4 (MaxPooling  (None, 3, 3, 256)        0         \n",
            " 2D)                                                             \n",
            "                                                                 \n",
            " conv2d_13 (Conv2D)          (None, 3, 3, 384)         885120    \n",
            "                                                                 \n",
            " conv2d_14 (Conv2D)          (None, 3, 3, 384)         1327488   \n",
            "                                                                 \n",
            " conv2d_15 (Conv2D)          (None, 3, 3, 256)         884992    \n",
            "                                                                 \n",
            " max_pooling2d_5 (MaxPooling  (None, 1, 1, 256)        0         \n",
            " 2D)                                                             \n",
            "                                                                 \n",
            " flatten_4 (Flatten)         (None, 256)               0         \n",
            "                                                                 \n",
            " dense_12 (Dense)            (None, 4096)              1052672   \n",
            "                                                                 \n",
            " dropout_2 (Dropout)         (None, 4096)              0         \n",
            "                                                                 \n",
            " dense_13 (Dense)            (None, 4096)              16781312  \n",
            "                                                                 \n",
            " dropout_3 (Dropout)         (None, 4096)              0         \n",
            "                                                                 \n",
            " dense_14 (Dense)            (None, 20)                81940     \n",
            "                                                                 \n",
            "=================================================================\n",
            "Total params: 21,630,868\n",
            "Trainable params: 21,630,868\n",
            "Non-trainable params: 0\n",
            "_________________________________________________________________\n"
          ]
        }
      ],
      "source": [
        "X = tf.random.uniform((1, 32, 32, 3))\n",
        "for layer in AlexNet().layers:\n",
        "    X = layer(X)\n",
        "    print(layer.__class__.__name__, 'output shape: \\t', X.shape)\n",
        "AlexNet_model_1 = AlexNet()\n",
        "AlexNet_model_2 = AlexNet()\n",
        "AlexNet_model_1.summary()"
      ]
    },
    {
      "cell_type": "markdown",
      "metadata": {
        "id": "uN-yNXULlgI_"
      },
      "source": [
        "#### VGG"
      ]
    },
    {
      "cell_type": "markdown",
      "metadata": {
        "id": "2uk8y9fsjWSe"
      },
      "source": [
        "Παρακάτω φτιάχνουμε ένα μοντέλο VGG προσαρμοσμένο για το πρόβλημά μας (με διάσταση εισόδου 32x32x3 αντί 224x224x3, και διάσταση εξόδου 20x1 αντί 1000x1)."
      ]
    },
    {
      "cell_type": "code",
      "execution_count": null,
      "metadata": {
        "id": "nFj2EVgmiorn"
      },
      "outputs": [],
      "source": [
        "def VGG_block(num_convs, num_channels):\n",
        "  block = models.Sequential()\n",
        "  for _ in range(num_convs):\n",
        "    block.add(layers.Conv2D(num_channels, kernel_size=3, padding='same', activation='relu'))\n",
        "  block.add(layers.MaxPool2D(pool_size=2, strides=2))\n",
        "  return block"
      ]
    },
    {
      "cell_type": "code",
      "execution_count": null,
      "metadata": {
        "id": "NlwGqQrNi12P"
      },
      "outputs": [],
      "source": [
        "def VGG(conv_arch):\n",
        "  model = models.Sequential()\n",
        "  model.add(layers.Conv2D(conv_arch[0][1], kernel_size=3, padding='same', activation='relu', input_shape=(32, 32, 3)))\n",
        "  # The convulational part\n",
        "  for (num_convs, num_channels) in conv_arch:\n",
        "      model.add(VGG_block(num_convs, num_channels))\n",
        "  # The fully-connected part\n",
        "  model.add(layers.Flatten())\n",
        "  model.add(layers.Dense(4096, activation='relu'))\n",
        "  model.add(layers.Dropout(0.5))\n",
        "  model.add(layers.Dense(4096, activation='relu'))\n",
        "  model.add(layers.Dropout(0.5))\n",
        "  model.add(layers.Dense(20))\n",
        "  return model"
      ]
    },
    {
      "cell_type": "code",
      "execution_count": null,
      "metadata": {
        "colab": {
          "base_uri": "https://localhost:8080/"
        },
        "id": "zfdUz4KsisM3",
        "outputId": "16e5bd41-2099-4698-f150-4053cd01ee8f"
      },
      "outputs": [
        {
          "name": "stdout",
          "output_type": "stream",
          "text": [
            "Conv2D output shape: \t (1, 32, 32, 64)\n",
            "Sequential output shape: \t (1, 16, 16, 64)\n",
            "Sequential output shape: \t (1, 8, 8, 128)\n",
            "Sequential output shape: \t (1, 4, 4, 256)\n",
            "Flatten output shape: \t (1, 4096)\n",
            "Dense output shape: \t (1, 4096)\n",
            "Dropout output shape: \t (1, 4096)\n",
            "Dense output shape: \t (1, 4096)\n",
            "Dropout output shape: \t (1, 4096)\n",
            "Dense output shape: \t (1, 20)\n",
            "Model: \"sequential_10\"\n",
            "_________________________________________________________________\n",
            " Layer (type)                Output Shape              Param #   \n",
            "=================================================================\n",
            " conv2d_26 (Conv2D)          (None, 32, 32, 64)        1792      \n",
            "                                                                 \n",
            " sequential_11 (Sequential)  (None, 16, 16, 64)        36928     \n",
            "                                                                 \n",
            " sequential_12 (Sequential)  (None, 8, 8, 128)         73856     \n",
            "                                                                 \n",
            " sequential_13 (Sequential)  (None, 4, 4, 256)         885248    \n",
            "                                                                 \n",
            " flatten_7 (Flatten)         (None, 4096)              0         \n",
            "                                                                 \n",
            " dense_21 (Dense)            (None, 4096)              16781312  \n",
            "                                                                 \n",
            " dropout_8 (Dropout)         (None, 4096)              0         \n",
            "                                                                 \n",
            " dense_22 (Dense)            (None, 4096)              16781312  \n",
            "                                                                 \n",
            " dropout_9 (Dropout)         (None, 4096)              0         \n",
            "                                                                 \n",
            " dense_23 (Dense)            (None, 20)                81940     \n",
            "                                                                 \n",
            "=================================================================\n",
            "Total params: 34,642,388\n",
            "Trainable params: 34,642,388\n",
            "Non-trainable params: 0\n",
            "_________________________________________________________________\n"
          ]
        }
      ],
      "source": [
        "conv_arch = ((1, 64), (1, 128), (2, 256))\n",
        "X = tf.random.uniform((1, 32, 32, 3))\n",
        "for layer in VGG(conv_arch).layers:\n",
        "    X = layer(X)\n",
        "    print(layer.__class__.__name__, 'output shape: \\t', X.shape)\n",
        "VGG_model_1 = VGG(conv_arch)\n",
        "VGG_model_2 = VGG(conv_arch)\n",
        "VGG_model_1.summary()"
      ]
    },
    {
      "cell_type": "markdown",
      "metadata": {
        "id": "fLCA1t4tcJrS"
      },
      "source": [
        "#### MyCNN"
      ]
    },
    {
      "cell_type": "markdown",
      "metadata": {
        "id": "TXeV0mNVlHNc"
      },
      "source": [
        "Για το μοντέλο μας επιλέγουμε κάτι μεταξύ του LeNet και του AlexNet. Αποτελείται από 3 Convolutional layers ακολουθούμενα από pooling layer, και στη συνέχεια 2 fully connected layers. Επιπλέον κάνουμε χρήση dropout."
      ]
    },
    {
      "cell_type": "code",
      "execution_count": null,
      "metadata": {
        "id": "BbKeUnwgcKsh"
      },
      "outputs": [],
      "source": [
        "def MyCNN():\n",
        "  model = models.Sequential()\n",
        "  model.add(layers.Conv2D(filters=96, kernel_size=3, strides=2, activation='relu', input_shape=(32, 32, 3)))\n",
        "  model.add(layers.MaxPool2D(pool_size=3, strides=2))\n",
        "  model.add(layers.Conv2D(filters=256, kernel_size=5, padding='same', activation='relu'))\n",
        "  model.add(layers.MaxPool2D(pool_size=3, strides=2))\n",
        "  model.add(layers.Conv2D(filters=384, kernel_size=3, padding='same', activation='relu'))\n",
        "  model.add(layers.MaxPool2D(pool_size=3, strides=2))\n",
        "  model.add(layers.Flatten())\n",
        "  model.add(layers.Dense(4096, activation='relu'))\n",
        "  model.add(layers.Dropout(0.5))\n",
        "  model.add(layers.Dense(20))\n",
        "  return model"
      ]
    },
    {
      "cell_type": "code",
      "execution_count": null,
      "metadata": {
        "colab": {
          "base_uri": "https://localhost:8080/"
        },
        "id": "NAIjC2Zqaz0Z",
        "outputId": "298f238f-1995-4ff2-f236-5505d2c52658"
      },
      "outputs": [
        {
          "name": "stdout",
          "output_type": "stream",
          "text": [
            "Conv2D output shape: \t (1, 15, 15, 96)\n",
            "MaxPooling2D output shape: \t (1, 7, 7, 96)\n",
            "Conv2D output shape: \t (1, 7, 7, 256)\n",
            "MaxPooling2D output shape: \t (1, 3, 3, 256)\n",
            "Conv2D output shape: \t (1, 3, 3, 384)\n",
            "MaxPooling2D output shape: \t (1, 1, 1, 384)\n",
            "Flatten output shape: \t (1, 384)\n",
            "Dense output shape: \t (1, 4096)\n",
            "Dropout output shape: \t (1, 4096)\n",
            "Dense output shape: \t (1, 20)\n",
            "Model: \"sequential_19\"\n",
            "_________________________________________________________________\n",
            " Layer (type)                Output Shape              Param #   \n",
            "=================================================================\n",
            " conv2d_39 (Conv2D)          (None, 15, 15, 96)        2688      \n",
            "                                                                 \n",
            " max_pooling2d_21 (MaxPoolin  (None, 7, 7, 96)         0         \n",
            " g2D)                                                            \n",
            "                                                                 \n",
            " conv2d_40 (Conv2D)          (None, 7, 7, 256)         614656    \n",
            "                                                                 \n",
            " max_pooling2d_22 (MaxPoolin  (None, 3, 3, 256)        0         \n",
            " g2D)                                                            \n",
            "                                                                 \n",
            " conv2d_41 (Conv2D)          (None, 3, 3, 384)         885120    \n",
            "                                                                 \n",
            " max_pooling2d_23 (MaxPoolin  (None, 1, 1, 384)        0         \n",
            " g2D)                                                            \n",
            "                                                                 \n",
            " flatten_10 (Flatten)        (None, 384)               0         \n",
            "                                                                 \n",
            " dense_29 (Dense)            (None, 4096)              1576960   \n",
            "                                                                 \n",
            " dropout_13 (Dropout)        (None, 4096)              0         \n",
            "                                                                 \n",
            " dense_30 (Dense)            (None, 20)                81940     \n",
            "                                                                 \n",
            "=================================================================\n",
            "Total params: 3,161,364\n",
            "Trainable params: 3,161,364\n",
            "Non-trainable params: 0\n",
            "_________________________________________________________________\n"
          ]
        }
      ],
      "source": [
        "X = tf.random.uniform((1, 32, 32, 3))\n",
        "for layer in MyCNN().layers:\n",
        "    X = layer(X)\n",
        "    print(layer.__class__.__name__, 'output shape: \\t', X.shape)\n",
        "MyCNN_model_1 = MyCNN()\n",
        "MyCNN_model_2 = MyCNN()\n",
        "MyCNN_model_1.summary()"
      ]
    },
    {
      "cell_type": "markdown",
      "metadata": {
        "id": "2Q3_izW5kgMH"
      },
      "source": [
        "### Μεταγλώτιση και Εκπαίδευση"
      ]
    },
    {
      "cell_type": "code",
      "execution_count": null,
      "metadata": {
        "id": "JaOJBV34ZK4n"
      },
      "outputs": [],
      "source": [
        "# optimizers = [\"SGD\", \"RMSprop\", \"Adam\", \"Adadelta\", \"Adagrad\", \"Adamax\", \"Nadam\", \"Ftrl\"]"
      ]
    },
    {
      "cell_type": "code",
      "execution_count": null,
      "metadata": {
        "colab": {
          "base_uri": "https://localhost:8080/"
        },
        "id": "8c2CnCUpj_MH",
        "outputId": "fa259291-7af5-4b7e-ccc1-7e7791d4ce1c"
      },
      "outputs": [
        {
          "name": "stdout",
          "output_type": "stream",
          "text": [
            "Epoch 1/10\n",
            "850/850 [==============================] - 13s 14ms/step - loss: 3.0077 - accuracy: 0.0471 - val_loss: 3.0011 - val_accuracy: 0.0493\n",
            "Epoch 2/10\n",
            "850/850 [==============================] - 8s 10ms/step - loss: 3.0025 - accuracy: 0.0479 - val_loss: 3.0054 - val_accuracy: 0.0507\n",
            "Epoch 3/10\n",
            "850/850 [==============================] - 8s 10ms/step - loss: 3.0027 - accuracy: 0.0452 - val_loss: 3.0051 - val_accuracy: 0.0493\n",
            "Epoch 4/10\n",
            "850/850 [==============================] - 8s 9ms/step - loss: 3.0016 - accuracy: 0.0501 - val_loss: 2.9961 - val_accuracy: 0.0533\n",
            "Epoch 5/10\n",
            "850/850 [==============================] - 9s 10ms/step - loss: 3.0017 - accuracy: 0.0479 - val_loss: 3.0019 - val_accuracy: 0.0420\n",
            "Epoch 6/10\n",
            "850/850 [==============================] - 8s 10ms/step - loss: 3.0026 - accuracy: 0.0454 - val_loss: 3.0033 - val_accuracy: 0.0440\n",
            "Epoch 7/10\n",
            "850/850 [==============================] - 8s 9ms/step - loss: 3.0020 - accuracy: 0.0493 - val_loss: 3.0056 - val_accuracy: 0.0487\n",
            "Epoch 8/10\n",
            "850/850 [==============================] - 9s 10ms/step - loss: 3.0021 - accuracy: 0.0549 - val_loss: 3.0011 - val_accuracy: 0.0420\n",
            "Epoch 9/10\n",
            "850/850 [==============================] - 9s 10ms/step - loss: 3.0013 - accuracy: 0.0522 - val_loss: 3.0005 - val_accuracy: 0.0500\n",
            "Epoch 10/10\n",
            "850/850 [==============================] - 9s 10ms/step - loss: 3.0019 - accuracy: 0.0487 - val_loss: 2.9993 - val_accuracy: 0.0567\n"
          ]
        }
      ],
      "source": [
        "LeNet_model_1.compile(optimizer=\"SGD\",\n",
        "              loss=tf.keras.losses.SparseCategoricalCrossentropy(from_logits=True),\n",
        "              metrics=['accuracy'])\n",
        "\n",
        "LeNet_history_1 = LeNet_model_1.fit(x_train, y_train_to20, epochs=10, batch_size=10,\n",
        "                    validation_data=(x_val, y_val_to20))"
      ]
    },
    {
      "cell_type": "code",
      "execution_count": null,
      "metadata": {
        "colab": {
          "base_uri": "https://localhost:8080/"
        },
        "id": "SgGOetcamfLf",
        "outputId": "a6f5ca5d-3d80-4091-e141-acfb76e52c9d"
      },
      "outputs": [
        {
          "name": "stdout",
          "output_type": "stream",
          "text": [
            "Epoch 1/10\n",
            "850/850 [==============================] - 9s 10ms/step - loss: 2.9659 - accuracy: 0.0704 - val_loss: 2.8241 - val_accuracy: 0.1133\n",
            "Epoch 2/10\n",
            "850/850 [==============================] - 9s 10ms/step - loss: 2.7484 - accuracy: 0.1369 - val_loss: 2.6526 - val_accuracy: 0.1540\n",
            "Epoch 3/10\n",
            "850/850 [==============================] - 9s 10ms/step - loss: 2.6463 - accuracy: 0.1652 - val_loss: 2.5989 - val_accuracy: 0.1707\n",
            "Epoch 4/10\n",
            "850/850 [==============================] - 8s 9ms/step - loss: 2.5840 - accuracy: 0.1816 - val_loss: 2.5412 - val_accuracy: 0.1807\n",
            "Epoch 5/10\n",
            "850/850 [==============================] - 9s 10ms/step - loss: 2.5283 - accuracy: 0.2031 - val_loss: 2.5303 - val_accuracy: 0.2160\n",
            "Epoch 6/10\n",
            "850/850 [==============================] - 9s 10ms/step - loss: 2.4761 - accuracy: 0.2218 - val_loss: 2.4727 - val_accuracy: 0.2253\n",
            "Epoch 7/10\n",
            "850/850 [==============================] - 9s 10ms/step - loss: 2.4124 - accuracy: 0.2442 - val_loss: 2.3627 - val_accuracy: 0.2573\n",
            "Epoch 8/10\n",
            "850/850 [==============================] - 8s 9ms/step - loss: 2.3471 - accuracy: 0.2672 - val_loss: 2.3287 - val_accuracy: 0.2713\n",
            "Epoch 9/10\n",
            "850/850 [==============================] - 9s 10ms/step - loss: 2.2943 - accuracy: 0.2801 - val_loss: 2.3057 - val_accuracy: 0.2660\n",
            "Epoch 10/10\n",
            "850/850 [==============================] - 9s 10ms/step - loss: 2.2548 - accuracy: 0.2951 - val_loss: 2.2711 - val_accuracy: 0.2993\n"
          ]
        }
      ],
      "source": [
        "LeNet_model_2.compile(optimizer=\"RMSprop\",\n",
        "              loss=tf.keras.losses.SparseCategoricalCrossentropy(from_logits=True),\n",
        "              metrics=['accuracy'])\n",
        "\n",
        "LeNet_history_2 = LeNet_model_2.fit(x_train, y_train_to20, epochs=10, batch_size=10,\n",
        "                    validation_data=(x_val, y_val_to20))"
      ]
    },
    {
      "cell_type": "code",
      "execution_count": null,
      "metadata": {
        "colab": {
          "base_uri": "https://localhost:8080/"
        },
        "id": "A4gLz9VTm7k3",
        "outputId": "bc2a7536-8a4e-4f56-9b6e-18c864844b3e"
      },
      "outputs": [
        {
          "name": "stdout",
          "output_type": "stream",
          "text": [
            "Epoch 1/15\n",
            "133/133 [==============================] - 118s 876ms/step - loss: 2.8459 - accuracy: 0.0884 - val_loss: 2.7205 - val_accuracy: 0.1227\n",
            "Epoch 2/15\n",
            "133/133 [==============================] - 115s 863ms/step - loss: 2.7037 - accuracy: 0.1238 - val_loss: 2.6326 - val_accuracy: 0.1140\n",
            "Epoch 3/15\n",
            "133/133 [==============================] - 124s 931ms/step - loss: 2.6347 - accuracy: 0.1426 - val_loss: 2.5323 - val_accuracy: 0.1760\n",
            "Epoch 4/15\n",
            "133/133 [==============================] - 118s 887ms/step - loss: 2.5185 - accuracy: 0.1914 - val_loss: 2.4297 - val_accuracy: 0.1973\n",
            "Epoch 5/15\n",
            "133/133 [==============================] - 118s 889ms/step - loss: 2.3868 - accuracy: 0.2328 - val_loss: 2.2730 - val_accuracy: 0.2740\n",
            "Epoch 6/15\n",
            "133/133 [==============================] - 120s 901ms/step - loss: 2.2687 - accuracy: 0.2773 - val_loss: 2.2839 - val_accuracy: 0.2693\n",
            "Epoch 7/15\n",
            "133/133 [==============================] - 119s 893ms/step - loss: 2.1574 - accuracy: 0.3129 - val_loss: 2.1364 - val_accuracy: 0.3000\n",
            "Epoch 8/15\n",
            "133/133 [==============================] - 128s 964ms/step - loss: 2.0832 - accuracy: 0.3336 - val_loss: 2.0489 - val_accuracy: 0.3380\n",
            "Epoch 9/15\n",
            "133/133 [==============================] - 120s 900ms/step - loss: 2.0162 - accuracy: 0.3533 - val_loss: 2.0757 - val_accuracy: 0.3360\n",
            "Epoch 10/15\n",
            "133/133 [==============================] - 119s 898ms/step - loss: 1.9392 - accuracy: 0.3788 - val_loss: 2.0403 - val_accuracy: 0.3520\n",
            "Epoch 11/15\n",
            "133/133 [==============================] - 120s 901ms/step - loss: 1.8587 - accuracy: 0.3922 - val_loss: 2.0080 - val_accuracy: 0.3747\n",
            "Epoch 12/15\n",
            "133/133 [==============================] - 119s 897ms/step - loss: 1.7805 - accuracy: 0.4220 - val_loss: 1.9999 - val_accuracy: 0.3827\n",
            "Epoch 13/15\n",
            "133/133 [==============================] - 126s 946ms/step - loss: 1.6787 - accuracy: 0.4432 - val_loss: 2.0595 - val_accuracy: 0.3667\n",
            "Epoch 14/15\n",
            "133/133 [==============================] - 119s 893ms/step - loss: 1.6146 - accuracy: 0.4599 - val_loss: 1.9945 - val_accuracy: 0.3980\n",
            "Epoch 15/15\n",
            "133/133 [==============================] - 122s 921ms/step - loss: 1.5472 - accuracy: 0.4835 - val_loss: 2.0284 - val_accuracy: 0.3953\n"
          ]
        }
      ],
      "source": [
        "AlexNet_model_1.compile(optimizer=\"adam\",\n",
        "              loss=tf.keras.losses.SparseCategoricalCrossentropy(from_logits=True),\n",
        "              metrics=['accuracy'])\n",
        "\n",
        "AlexNet_history_1 = AlexNet_model_1.fit(x_train, y_train_to20, epochs=15, batch_size=64,\n",
        "                    validation_data=(x_val, y_val_to20))"
      ]
    },
    {
      "cell_type": "code",
      "execution_count": null,
      "metadata": {
        "colab": {
          "base_uri": "https://localhost:8080/"
        },
        "id": "41cQhDJQnPZW",
        "outputId": "a189f41c-3fd4-4dfa-9254-492005cb170b"
      },
      "outputs": [
        {
          "name": "stdout",
          "output_type": "stream",
          "text": [
            "Epoch 1/15\n",
            "133/133 [==============================] - 119s 890ms/step - loss: 2.9364 - accuracy: 0.0669 - val_loss: 2.8981 - val_accuracy: 0.0907\n",
            "Epoch 2/15\n",
            "133/133 [==============================] - 116s 874ms/step - loss: 2.7727 - accuracy: 0.1102 - val_loss: 2.6508 - val_accuracy: 0.1353\n",
            "Epoch 3/15\n",
            "133/133 [==============================] - 116s 871ms/step - loss: 2.6749 - accuracy: 0.1364 - val_loss: 2.5163 - val_accuracy: 0.1733\n",
            "Epoch 4/15\n",
            "133/133 [==============================] - 115s 866ms/step - loss: 2.5763 - accuracy: 0.1728 - val_loss: 2.4534 - val_accuracy: 0.2053\n",
            "Epoch 5/15\n",
            "133/133 [==============================] - 115s 868ms/step - loss: 2.4768 - accuracy: 0.2059 - val_loss: 2.3738 - val_accuracy: 0.2360\n",
            "Epoch 6/15\n",
            "133/133 [==============================] - 117s 877ms/step - loss: 2.3681 - accuracy: 0.2473 - val_loss: 2.2971 - val_accuracy: 0.2667\n",
            "Epoch 7/15\n",
            "133/133 [==============================] - 115s 863ms/step - loss: 2.2529 - accuracy: 0.2867 - val_loss: 2.1990 - val_accuracy: 0.2920\n",
            "Epoch 8/15\n",
            "133/133 [==============================] - 116s 871ms/step - loss: 2.1647 - accuracy: 0.3125 - val_loss: 2.2477 - val_accuracy: 0.3027\n",
            "Epoch 9/15\n",
            "133/133 [==============================] - 116s 875ms/step - loss: 2.0453 - accuracy: 0.3460 - val_loss: 2.0836 - val_accuracy: 0.3473\n",
            "Epoch 10/15\n",
            "133/133 [==============================] - 115s 867ms/step - loss: 1.9375 - accuracy: 0.3766 - val_loss: 2.1235 - val_accuracy: 0.3427\n",
            "Epoch 11/15\n",
            "133/133 [==============================] - 116s 870ms/step - loss: 1.8291 - accuracy: 0.4024 - val_loss: 2.5258 - val_accuracy: 0.3100\n",
            "Epoch 12/15\n",
            "133/133 [==============================] - 115s 869ms/step - loss: 1.7046 - accuracy: 0.4439 - val_loss: 2.0035 - val_accuracy: 0.4120\n",
            "Epoch 13/15\n",
            "133/133 [==============================] - 116s 872ms/step - loss: 1.5885 - accuracy: 0.4835 - val_loss: 2.0901 - val_accuracy: 0.3953\n",
            "Epoch 14/15\n",
            "133/133 [==============================] - 115s 863ms/step - loss: 1.4431 - accuracy: 0.5168 - val_loss: 2.1855 - val_accuracy: 0.4140\n",
            "Epoch 15/15\n",
            "133/133 [==============================] - 116s 873ms/step - loss: 1.3135 - accuracy: 0.5572 - val_loss: 2.6268 - val_accuracy: 0.3593\n"
          ]
        }
      ],
      "source": [
        "AlexNet_model_2.compile(optimizer=\"RMSprop\",\n",
        "              loss=tf.keras.losses.SparseCategoricalCrossentropy(from_logits=True),\n",
        "              metrics=['accuracy'])\n",
        "\n",
        "AlexNet_history_2 = AlexNet_model_2.fit(x_train, y_train_to20, epochs=15, batch_size=64,\n",
        "                    validation_data=(x_val, y_val_to20))"
      ]
    },
    {
      "cell_type": "code",
      "execution_count": null,
      "metadata": {
        "colab": {
          "base_uri": "https://localhost:8080/"
        },
        "id": "HtnZzozTrqOm",
        "outputId": "83ec5dc9-b2ff-4874-d458-aaba8ef51673"
      },
      "outputs": [
        {
          "name": "stdout",
          "output_type": "stream",
          "text": [
            "Epoch 1/20\n",
            "67/67 [==============================] - 173s 3s/step - loss: 2.9448 - accuracy: 0.0719 - val_loss: 2.8633 - val_accuracy: 0.1147\n",
            "Epoch 2/20\n",
            "67/67 [==============================] - 173s 3s/step - loss: 2.7984 - accuracy: 0.1094 - val_loss: 2.7341 - val_accuracy: 0.1213\n",
            "Epoch 3/20\n",
            "67/67 [==============================] - 174s 3s/step - loss: 2.6530 - accuracy: 0.1658 - val_loss: 2.5939 - val_accuracy: 0.1693\n",
            "Epoch 4/20\n",
            "67/67 [==============================] - 175s 3s/step - loss: 2.4891 - accuracy: 0.2185 - val_loss: 2.4940 - val_accuracy: 0.1893\n",
            "Epoch 5/20\n",
            "67/67 [==============================] - 170s 3s/step - loss: 2.3855 - accuracy: 0.2551 - val_loss: 2.4244 - val_accuracy: 0.2120\n",
            "Epoch 6/20\n",
            "67/67 [==============================] - 171s 3s/step - loss: 2.2686 - accuracy: 0.2828 - val_loss: 2.2063 - val_accuracy: 0.2887\n",
            "Epoch 7/20\n",
            "67/67 [==============================] - 172s 3s/step - loss: 2.1471 - accuracy: 0.3273 - val_loss: 2.0602 - val_accuracy: 0.3367\n",
            "Epoch 8/20\n",
            "67/67 [==============================] - 171s 3s/step - loss: 2.0738 - accuracy: 0.3586 - val_loss: 2.0833 - val_accuracy: 0.3567\n",
            "Epoch 9/20\n",
            "67/67 [==============================] - 171s 3s/step - loss: 1.9125 - accuracy: 0.4052 - val_loss: 1.9794 - val_accuracy: 0.3773\n",
            "Epoch 10/20\n",
            "67/67 [==============================] - 171s 3s/step - loss: 1.7949 - accuracy: 0.4367 - val_loss: 1.9808 - val_accuracy: 0.3833\n",
            "Epoch 11/20\n",
            "67/67 [==============================] - 171s 3s/step - loss: 1.6497 - accuracy: 0.4772 - val_loss: 1.9159 - val_accuracy: 0.3907\n",
            "Epoch 12/20\n",
            "67/67 [==============================] - 172s 3s/step - loss: 1.5341 - accuracy: 0.5219 - val_loss: 1.8880 - val_accuracy: 0.4367\n",
            "Epoch 13/20\n",
            "67/67 [==============================] - 176s 3s/step - loss: 1.3347 - accuracy: 0.5767 - val_loss: 1.9588 - val_accuracy: 0.4173\n",
            "Epoch 14/20\n",
            "67/67 [==============================] - 175s 3s/step - loss: 1.1782 - accuracy: 0.6254 - val_loss: 1.9322 - val_accuracy: 0.4467\n",
            "Epoch 15/20\n",
            "67/67 [==============================] - 172s 3s/step - loss: 0.9613 - accuracy: 0.6905 - val_loss: 1.9706 - val_accuracy: 0.4633\n",
            "Epoch 16/20\n",
            "67/67 [==============================] - 173s 3s/step - loss: 0.7576 - accuracy: 0.7506 - val_loss: 2.1000 - val_accuracy: 0.4780\n",
            "Epoch 17/20\n",
            "67/67 [==============================] - 175s 3s/step - loss: 0.5923 - accuracy: 0.8093 - val_loss: 2.5290 - val_accuracy: 0.4420\n",
            "Epoch 18/20\n",
            "67/67 [==============================] - 177s 3s/step - loss: 0.4518 - accuracy: 0.8540 - val_loss: 2.6020 - val_accuracy: 0.4693\n",
            "Epoch 19/20\n",
            "67/67 [==============================] - 172s 3s/step - loss: 0.3680 - accuracy: 0.8841 - val_loss: 2.7257 - val_accuracy: 0.4953\n",
            "Epoch 20/20\n",
            "67/67 [==============================] - 176s 3s/step - loss: 0.2802 - accuracy: 0.9165 - val_loss: 2.8015 - val_accuracy: 0.5013\n"
          ]
        }
      ],
      "source": [
        "VGG_model_1.compile(optimizer='RMSprop',\n",
        "              loss=tf.keras.losses.SparseCategoricalCrossentropy(from_logits=True),\n",
        "              metrics=['accuracy'])\n",
        "\n",
        "VGG_history_1 = VGG_model_1.fit(x_train, y_train_to20, epochs=30, batch_size=128,\n",
        "                    validation_data=(x_val, y_val_to20))"
      ]
    },
    {
      "cell_type": "code",
      "execution_count": null,
      "metadata": {
        "colab": {
          "base_uri": "https://localhost:8080/"
        },
        "id": "PAeUjfDdry5-",
        "outputId": "1d0448eb-a8ad-479f-d3ac-9b56d3ca15e7"
      },
      "outputs": [
        {
          "name": "stdout",
          "output_type": "stream",
          "text": [
            "Epoch 1/20\n",
            "67/67 [==============================] - 177s 3s/step - loss: 2.9348 - accuracy: 0.0793 - val_loss: 2.6935 - val_accuracy: 0.1620\n",
            "Epoch 2/20\n",
            "67/67 [==============================] - 172s 3s/step - loss: 2.5600 - accuracy: 0.2071 - val_loss: 2.4371 - val_accuracy: 0.2240\n",
            "Epoch 3/20\n",
            "67/67 [==============================] - 175s 3s/step - loss: 2.2719 - accuracy: 0.2858 - val_loss: 2.1547 - val_accuracy: 0.3073\n",
            "Epoch 4/20\n",
            "67/67 [==============================] - 171s 3s/step - loss: 2.0467 - accuracy: 0.3576 - val_loss: 2.0299 - val_accuracy: 0.3587\n",
            "Epoch 5/20\n",
            "67/67 [==============================] - 171s 3s/step - loss: 1.8831 - accuracy: 0.4066 - val_loss: 1.8620 - val_accuracy: 0.4140\n",
            "Epoch 6/20\n",
            "67/67 [==============================] - 174s 3s/step - loss: 1.6993 - accuracy: 0.4561 - val_loss: 1.8302 - val_accuracy: 0.4220\n",
            "Epoch 7/20\n",
            "67/67 [==============================] - 171s 3s/step - loss: 1.5436 - accuracy: 0.5156 - val_loss: 1.7347 - val_accuracy: 0.4573\n",
            "Epoch 8/20\n",
            "67/67 [==============================] - 176s 3s/step - loss: 1.3745 - accuracy: 0.5679 - val_loss: 1.7320 - val_accuracy: 0.4813\n",
            "Epoch 9/20\n",
            "67/67 [==============================] - 175s 3s/step - loss: 1.1604 - accuracy: 0.6218 - val_loss: 1.7221 - val_accuracy: 0.4753\n",
            "Epoch 10/20\n",
            "67/67 [==============================] - 171s 3s/step - loss: 0.9889 - accuracy: 0.6771 - val_loss: 1.8879 - val_accuracy: 0.4747\n",
            "Epoch 11/20\n",
            "67/67 [==============================] - 171s 3s/step - loss: 0.8049 - accuracy: 0.7379 - val_loss: 1.8368 - val_accuracy: 0.4827\n",
            "Epoch 12/20\n",
            "67/67 [==============================] - 175s 3s/step - loss: 0.6071 - accuracy: 0.8013 - val_loss: 2.1778 - val_accuracy: 0.4893\n",
            "Epoch 13/20\n",
            "67/67 [==============================] - 175s 3s/step - loss: 0.4964 - accuracy: 0.8387 - val_loss: 2.3189 - val_accuracy: 0.4827\n",
            "Epoch 14/20\n",
            "67/67 [==============================] - 175s 3s/step - loss: 0.3653 - accuracy: 0.8818 - val_loss: 2.4144 - val_accuracy: 0.4927\n",
            "Epoch 15/20\n",
            "67/67 [==============================] - 176s 3s/step - loss: 0.2999 - accuracy: 0.8985 - val_loss: 2.7006 - val_accuracy: 0.5113\n",
            "Epoch 16/20\n",
            "67/67 [==============================] - 172s 3s/step - loss: 0.2555 - accuracy: 0.9149 - val_loss: 2.7967 - val_accuracy: 0.4900\n",
            "Epoch 17/20\n",
            "67/67 [==============================] - 176s 3s/step - loss: 0.2253 - accuracy: 0.9282 - val_loss: 2.6979 - val_accuracy: 0.5227\n",
            "Epoch 18/20\n",
            "67/67 [==============================] - 172s 3s/step - loss: 0.2032 - accuracy: 0.9345 - val_loss: 2.7618 - val_accuracy: 0.4900\n",
            "Epoch 19/20\n",
            "67/67 [==============================] - 176s 3s/step - loss: 0.1589 - accuracy: 0.9501 - val_loss: 2.8581 - val_accuracy: 0.5033\n",
            "Epoch 20/20\n",
            "67/67 [==============================] - 172s 3s/step - loss: 0.1437 - accuracy: 0.9547 - val_loss: 3.0668 - val_accuracy: 0.4987\n"
          ]
        }
      ],
      "source": [
        "VGG_model_2.compile(optimizer='Adam',\n",
        "              loss=tf.keras.losses.SparseCategoricalCrossentropy(from_logits=True),\n",
        "              metrics=['accuracy'])\n",
        "\n",
        "VGG_history_2 = VGG_model_2.fit(x_train, y_train_to20, epochs=20, batch_size=128,\n",
        "                    validation_data=(x_val, y_val_to20))"
      ]
    },
    {
      "cell_type": "code",
      "execution_count": null,
      "metadata": {
        "colab": {
          "base_uri": "https://localhost:8080/"
        },
        "id": "yatEF6MvZzVh",
        "outputId": "9f3bd614-1978-4bb2-f50c-b6c04cda2c84"
      },
      "outputs": [
        {
          "name": "stdout",
          "output_type": "stream",
          "text": [
            "Epoch 1/15\n",
            "67/67 [==============================] - 50s 730ms/step - loss: 2.7800 - accuracy: 0.1256 - val_loss: 2.4771 - val_accuracy: 0.2227\n",
            "Epoch 2/15\n",
            "67/67 [==============================] - 49s 726ms/step - loss: 2.3051 - accuracy: 0.2789 - val_loss: 2.1828 - val_accuracy: 0.2920\n",
            "Epoch 3/15\n",
            "67/67 [==============================] - 48s 724ms/step - loss: 2.0613 - accuracy: 0.3493 - val_loss: 1.9893 - val_accuracy: 0.3600\n",
            "Epoch 4/15\n",
            "67/67 [==============================] - 50s 743ms/step - loss: 1.8620 - accuracy: 0.4051 - val_loss: 1.9327 - val_accuracy: 0.3680\n",
            "Epoch 5/15\n",
            "67/67 [==============================] - 48s 723ms/step - loss: 1.6905 - accuracy: 0.4596 - val_loss: 1.8166 - val_accuracy: 0.4260\n",
            "Epoch 6/15\n",
            "67/67 [==============================] - 49s 725ms/step - loss: 1.5361 - accuracy: 0.5064 - val_loss: 1.8090 - val_accuracy: 0.4087\n",
            "Epoch 7/15\n",
            "67/67 [==============================] - 48s 716ms/step - loss: 1.3533 - accuracy: 0.5513 - val_loss: 1.7417 - val_accuracy: 0.4580\n",
            "Epoch 8/15\n",
            "67/67 [==============================] - 48s 715ms/step - loss: 1.2023 - accuracy: 0.6019 - val_loss: 1.6398 - val_accuracy: 0.4840\n",
            "Epoch 9/15\n",
            "67/67 [==============================] - 48s 714ms/step - loss: 1.0333 - accuracy: 0.6546 - val_loss: 1.6398 - val_accuracy: 0.5013\n",
            "Epoch 10/15\n",
            "67/67 [==============================] - 49s 726ms/step - loss: 0.8382 - accuracy: 0.7231 - val_loss: 1.8053 - val_accuracy: 0.4933\n",
            "Epoch 11/15\n",
            "67/67 [==============================] - 48s 713ms/step - loss: 0.6687 - accuracy: 0.7760 - val_loss: 1.8579 - val_accuracy: 0.5113\n",
            "Epoch 12/15\n",
            "67/67 [==============================] - 49s 732ms/step - loss: 0.5271 - accuracy: 0.8240 - val_loss: 1.9238 - val_accuracy: 0.5133\n",
            "Epoch 13/15\n",
            "67/67 [==============================] - 48s 707ms/step - loss: 0.3833 - accuracy: 0.8693 - val_loss: 1.9976 - val_accuracy: 0.5327\n",
            "Epoch 14/15\n",
            "67/67 [==============================] - 48s 710ms/step - loss: 0.2572 - accuracy: 0.9201 - val_loss: 2.4414 - val_accuracy: 0.4840\n",
            "Epoch 15/15\n",
            "67/67 [==============================] - 49s 726ms/step - loss: 0.2067 - accuracy: 0.9344 - val_loss: 2.3616 - val_accuracy: 0.5100\n"
          ]
        }
      ],
      "source": [
        "MyCNN_model_1.compile(optimizer='Nadam',\n",
        "              loss=tf.keras.losses.SparseCategoricalCrossentropy(from_logits=True),\n",
        "              metrics=['accuracy'])\n",
        "\n",
        "MyCNN_history_1 = MyCNN_model_1.fit(x_train, y_train_to20, epochs=15, batch_size=128,\n",
        "                    validation_data=(x_val, y_val_to20))"
      ]
    },
    {
      "cell_type": "code",
      "execution_count": null,
      "metadata": {
        "colab": {
          "base_uri": "https://localhost:8080/"
        },
        "id": "BR3AXIGEaYea",
        "outputId": "5a13fb75-094f-4b2f-8d84-1dfdcab26f27"
      },
      "outputs": [
        {
          "name": "stdout",
          "output_type": "stream",
          "text": [
            "Epoch 1/15\n",
            "67/67 [==============================] - 51s 745ms/step - loss: 2.7522 - accuracy: 0.1286 - val_loss: 2.4959 - val_accuracy: 0.2127\n",
            "Epoch 2/15\n",
            "67/67 [==============================] - 48s 725ms/step - loss: 2.4103 - accuracy: 0.2351 - val_loss: 2.2779 - val_accuracy: 0.2687\n",
            "Epoch 3/15\n",
            "67/67 [==============================] - 48s 724ms/step - loss: 2.1833 - accuracy: 0.3041 - val_loss: 2.1187 - val_accuracy: 0.3140\n",
            "Epoch 4/15\n",
            "67/67 [==============================] - 48s 711ms/step - loss: 2.0133 - accuracy: 0.3518 - val_loss: 2.1102 - val_accuracy: 0.3347\n",
            "Epoch 5/15\n",
            "67/67 [==============================] - 48s 715ms/step - loss: 1.9039 - accuracy: 0.3889 - val_loss: 1.9148 - val_accuracy: 0.3780\n",
            "Epoch 6/15\n",
            "67/67 [==============================] - 49s 731ms/step - loss: 1.7414 - accuracy: 0.4392 - val_loss: 1.8128 - val_accuracy: 0.4133\n",
            "Epoch 7/15\n",
            "67/67 [==============================] - 49s 737ms/step - loss: 1.6289 - accuracy: 0.4779 - val_loss: 1.7552 - val_accuracy: 0.4453\n",
            "Epoch 8/15\n",
            "67/67 [==============================] - 47s 705ms/step - loss: 1.4587 - accuracy: 0.5232 - val_loss: 1.7704 - val_accuracy: 0.4487\n",
            "Epoch 9/15\n",
            "67/67 [==============================] - 47s 707ms/step - loss: 1.3495 - accuracy: 0.5565 - val_loss: 1.7695 - val_accuracy: 0.4720\n",
            "Epoch 10/15\n",
            "67/67 [==============================] - 47s 706ms/step - loss: 1.2178 - accuracy: 0.6002 - val_loss: 1.8411 - val_accuracy: 0.4413\n",
            "Epoch 11/15\n",
            "67/67 [==============================] - 47s 709ms/step - loss: 1.0780 - accuracy: 0.6389 - val_loss: 1.7163 - val_accuracy: 0.4780\n",
            "Epoch 12/15\n",
            "67/67 [==============================] - 47s 705ms/step - loss: 0.9342 - accuracy: 0.6900 - val_loss: 1.7958 - val_accuracy: 0.4860\n",
            "Epoch 13/15\n",
            "67/67 [==============================] - 47s 708ms/step - loss: 0.7574 - accuracy: 0.7454 - val_loss: 1.7808 - val_accuracy: 0.4967\n",
            "Epoch 14/15\n",
            "67/67 [==============================] - 49s 734ms/step - loss: 0.6531 - accuracy: 0.7811 - val_loss: 1.9682 - val_accuracy: 0.4820\n",
            "Epoch 15/15\n",
            "67/67 [==============================] - 47s 703ms/step - loss: 0.5215 - accuracy: 0.8240 - val_loss: 2.1830 - val_accuracy: 0.4720\n"
          ]
        }
      ],
      "source": [
        "MyCNN_model_2.compile(optimizer='Adam',\n",
        "              loss=tf.keras.losses.SparseCategoricalCrossentropy(from_logits=True),\n",
        "              metrics=['accuracy'])\n",
        "\n",
        "MyCNN_history_2 = MyCNN_model_2.fit(x_train, y_train_to20, epochs=15, batch_size=128,\n",
        "                    validation_data=(x_val, y_val_to20))"
      ]
    },
    {
      "cell_type": "markdown",
      "metadata": {
        "id": "WHCsjuEtpMFf"
      },
      "source": [
        "### Αξιολόγηση μοντέλων"
      ]
    },
    {
      "cell_type": "code",
      "execution_count": null,
      "metadata": {
        "colab": {
          "base_uri": "https://localhost:8080/",
          "height": 472
        },
        "id": "8GUCk8v3Zmux",
        "outputId": "5a87b313-41b6-4e25-8901-6b616d96fbe6"
      },
      "outputs": [
        {
          "name": "stdout",
          "output_type": "stream",
          "text": [
            "63/63 - 1s - loss: 3.0002 - accuracy: 0.0500 - 586ms/epoch - 9ms/step\n"
          ]
        },
        {
          "data": {
            "image/png": "[encoded data removed]",
            "text/plain": [
              "<Figure size 640x480 with 1 Axes>"
            ]
          },
          "metadata": {},
          "output_type": "display_data"
        }
      ],
      "source": [
        "plt.plot(LeNet_history_1.history['accuracy'], label='accuracy')\n",
        "plt.plot(LeNet_history_1.history['val_accuracy'], label = 'val_accuracy')\n",
        "plt.xlabel('Epoch')\n",
        "plt.ylabel('Accuracy')\n",
        "plt.ylim([0, 1])\n",
        "plt.legend(loc='lower right')\n",
        "\n",
        "LeNet_test_loss, LeNet_test_acc = LeNet_model_1.evaluate(x_test,  y_test_to20, verbose=2)"
      ]
    },
    {
      "cell_type": "code",
      "execution_count": null,
      "metadata": {
        "colab": {
          "base_uri": "https://localhost:8080/",
          "height": 472
        },
        "id": "H9w-WJN8-RQL",
        "outputId": "02448f62-7322-4e0c-bbac-babf51cf6c21"
      },
      "outputs": [
        {
          "name": "stdout",
          "output_type": "stream",
          "text": [
            "63/63 - 1s - loss: 2.2392 - accuracy: 0.3065 - 967ms/epoch - 15ms/step\n"
          ]
        },
        {
          "data": {
            "image/png": "[encoded data removed]",
            "text/plain": [
              "<Figure size 640x480 with 1 Axes>"
            ]
          },
          "metadata": {},
          "output_type": "display_data"
        }
      ],
      "source": [
        "plt.plot(LeNet_history_2.history['accuracy'], label='accuracy')\n",
        "plt.plot(LeNet_history_2.history['val_accuracy'], label = 'val_accuracy')\n",
        "plt.xlabel('Epoch')\n",
        "plt.ylabel('Accuracy')\n",
        "plt.ylim([0, 1])\n",
        "plt.legend(loc='lower right')\n",
        "\n",
        "LeNet_test_loss, LeNet_test_acc = LeNet_model_2.evaluate(x_test,  y_test_to20, verbose=2)"
      ]
    },
    {
      "cell_type": "code",
      "execution_count": null,
      "metadata": {
        "colab": {
          "base_uri": "https://localhost:8080/",
          "height": 472
        },
        "id": "_1vdCOrs-T8z",
        "outputId": "40d84ab4-6a19-4e53-9fbf-d36850552817"
      },
      "outputs": [
        {
          "name": "stdout",
          "output_type": "stream",
          "text": [
            "63/63 - 5s - loss: 2.0038 - accuracy: 0.3810 - 5s/epoch - 74ms/step\n"
          ]
        },
        {
          "data": {
            "image/png": "[encoded data removed]",
            "text/plain": [
              "<Figure size 640x480 with 1 Axes>"
            ]
          },
          "metadata": {},
          "output_type": "display_data"
        }
      ],
      "source": [
        "plt.plot(AlexNet_history_1.history['accuracy'], label='accuracy')\n",
        "plt.plot(AlexNet_history_1.history['val_accuracy'], label = 'val_accuracy')\n",
        "plt.xlabel('Epoch')\n",
        "plt.ylabel('Accuracy')\n",
        "plt.ylim([0, 1])\n",
        "plt.legend(loc='lower right')\n",
        "\n",
        "AlexNet_test_loss, AlexNet_test_acc = AlexNet_model_1.evaluate(x_test,  y_test_to20, verbose=2)"
      ]
    },
    {
      "cell_type": "code",
      "execution_count": null,
      "metadata": {
        "colab": {
          "base_uri": "https://localhost:8080/",
          "height": 472
        },
        "id": "2uQ_gd4NZx8w",
        "outputId": "39321981-8e56-4ffd-ce74-640724d7ff69"
      },
      "outputs": [
        {
          "name": "stdout",
          "output_type": "stream",
          "text": [
            "63/63 - 4s - loss: 2.5447 - accuracy: 0.3595 - 4s/epoch - 65ms/step\n"
          ]
        },
        {
          "data": {
            "image/png": "[encoded data removed]",
            "text/plain": [
              "<Figure size 640x480 with 1 Axes>"
            ]
          },
          "metadata": {},
          "output_type": "display_data"
        }
      ],
      "source": [
        "plt.plot(AlexNet_history_2.history['accuracy'], label='accuracy')\n",
        "plt.plot(AlexNet_history_2.history['val_accuracy'], label = 'val_accuracy')\n",
        "plt.xlabel('Epoch')\n",
        "plt.ylabel('Accuracy')\n",
        "plt.ylim([0, 1])\n",
        "plt.legend(loc='lower right')\n",
        "\n",
        "AlexNet_test_loss, AlexNet_test_acc = AlexNet_model_2.evaluate(x_test,  y_test_to20, verbose=2)"
      ]
    },
    {
      "cell_type": "code",
      "execution_count": null,
      "metadata": {
        "colab": {
          "base_uri": "https://localhost:8080/",
          "height": 472
        },
        "id": "b7ztm8jpZ2gw",
        "outputId": "1b711000-972a-421e-d1ee-d8092caf3c43"
      },
      "outputs": [
        {
          "name": "stdout",
          "output_type": "stream",
          "text": [
            "63/63 - 9s - loss: 2.8128 - accuracy: 0.4885 - 9s/epoch - 136ms/step\n"
          ]
        },
        {
          "data": {
            "image/png": "[encoded data removed]",
            "text/plain": [
              "<Figure size 640x480 with 1 Axes>"
            ]
          },
          "metadata": {},
          "output_type": "display_data"
        }
      ],
      "source": [
        "plt.plot(VGG_history_1.history['accuracy'], label='accuracy')\n",
        "plt.plot(VGG_history_1.history['val_accuracy'], label = 'val_accuracy')\n",
        "plt.xlabel('Epoch')\n",
        "plt.ylabel('Accuracy')\n",
        "plt.ylim([0, 1])\n",
        "plt.legend(loc='lower right')\n",
        "\n",
        "VGG_test_loss, VGG_test_acc = VGG_model_1.evaluate(x_test,  y_test_to20, verbose=2)"
      ]
    },
    {
      "cell_type": "code",
      "execution_count": null,
      "metadata": {
        "colab": {
          "base_uri": "https://localhost:8080/",
          "height": 472
        },
        "id": "jCU8AgR0Z2wQ",
        "outputId": "46827e0d-99f5-4311-ad40-dc24ab413ff8"
      },
      "outputs": [
        {
          "name": "stdout",
          "output_type": "stream",
          "text": [
            "63/63 - 9s - loss: 2.9791 - accuracy: 0.5185 - 9s/epoch - 136ms/step\n"
          ]
        },
        {
          "data": {
            "image/png": "[encoded data removed]",
            "text/plain": [
              "<Figure size 640x480 with 1 Axes>"
            ]
          },
          "metadata": {},
          "output_type": "display_data"
        }
      ],
      "source": [
        "plt.plot(VGG_history_2.history['accuracy'], label='accuracy')\n",
        "plt.plot(VGG_history_2.history['val_accuracy'], label = 'val_accuracy')\n",
        "plt.xlabel('Epoch')\n",
        "plt.ylabel('Accuracy')\n",
        "plt.ylim([0, 1])\n",
        "plt.legend(loc='lower right')\n",
        "\n",
        "VGG_test_loss, VGG_test_acc = VGG_model_2.evaluate(x_test,  y_test_to20, verbose=2)"
      ]
    },
    {
      "cell_type": "code",
      "execution_count": null,
      "metadata": {
        "colab": {
          "base_uri": "https://localhost:8080/",
          "height": 472
        },
        "id": "Mqwcf7FinDNw",
        "outputId": "fbd2b6e9-1433-4b99-c148-bfb936872236"
      },
      "outputs": [
        {
          "name": "stdout",
          "output_type": "stream",
          "text": [
            "63/63 - 2s - loss: 2.4240 - accuracy: 0.4960 - 2s/epoch - 33ms/step\n"
          ]
        },
        {
          "data": {
            "image/png": "[encoded data removed]",
            "text/plain": [
              "<Figure size 640x480 with 1 Axes>"
            ]
          },
          "metadata": {},
          "output_type": "display_data"
        }
      ],
      "source": [
        "plt.plot(MyCNN_history_1.history['accuracy'], label='accuracy')\n",
        "plt.plot(MyCNN_history_1.history['val_accuracy'], label = 'val_accuracy')\n",
        "plt.xlabel('Epoch')\n",
        "plt.ylabel('Accuracy')\n",
        "plt.ylim([0, 1])\n",
        "plt.legend(loc='lower right')\n",
        "\n",
        "MyCNN__test_loss, MyCNN__test_acc = MyCNN_model_1.evaluate(x_test,  y_test_to20, verbose=2)"
      ]
    },
    {
      "cell_type": "code",
      "execution_count": null,
      "metadata": {
        "colab": {
          "base_uri": "https://localhost:8080/",
          "height": 472
        },
        "id": "1oLTHePrnDyP",
        "outputId": "1676c2b7-a30c-495e-81d3-48d57da3a1cd"
      },
      "outputs": [
        {
          "name": "stdout",
          "output_type": "stream",
          "text": [
            "63/63 - 2s - loss: 2.1074 - accuracy: 0.4940 - 2s/epoch - 33ms/step\n"
          ]
        },
        {
          "data": {
            "image/png": "[encoded data removed]",
            "text/plain": [
              "<Figure size 640x480 with 1 Axes>"
            ]
          },
          "metadata": {},
          "output_type": "display_data"
        }
      ],
      "source": [
        "plt.plot(MyCNN_history_2.history['accuracy'], label='accuracy')\n",
        "plt.plot(MyCNN_history_2.history['val_accuracy'], label = 'val_accuracy')\n",
        "plt.xlabel('Epoch')\n",
        "plt.ylabel('Accuracy')\n",
        "plt.ylim([0, 1])\n",
        "plt.legend(loc='lower right')\n",
        "\n",
        "MyCNN__test_loss, MyCNN__test_acc = MyCNN_model_2.evaluate(x_test,  y_test_to20, verbose=2)"
      ]
    },
    {
      "cell_type": "code",
      "execution_count": null,
      "metadata": {
        "colab": {
          "base_uri": "https://localhost:8080/",
          "height": 472
        },
        "id": "2okluetk4f2x",
        "outputId": "75028f5f-45b9-44d2-f8c4-e8811860ed43"
      },
      "outputs": [
        {
          "data": {
            "image/png": "[encoded data removed]",
            "text/plain": [
              "<Figure size 640x480 with 1 Axes>"
            ]
          },
          "metadata": {},
          "output_type": "display_data"
        }
      ],
      "source": [
        "fig=plt.figure()\n",
        "x=np.arange(4)\n",
        "ytrain=[0.2951,0.4835,0.9547,0.9344]\n",
        "yval=[0.2993,0.3953,0.4987,0.51]\n",
        "width=0.3\n",
        "plt.bar(x-0.15,ytrain,width,color='cyan')\n",
        "plt.bar(x+0.15,yval,width,color='magenta')\n",
        "plt.xlabel('Model')\n",
        "plt.xticks(x, ['LeNet2','AlexNet1','VGG2','MyCNN1'])\n",
        "plt.ylim([0,1])\n",
        "plt.ylabel('Accuracy')\n",
        "plt.title('Train & Validation Accuracies')\n",
        "plt.legend(['Train','Validation'])\n",
        "fig.show()"
      ]
    },
    {
      "cell_type": "markdown",
      "metadata": {
        "id": "rLzg3mOPCdRs"
      },
      "source": [
        "Παραατηρούμε ότι γενικά η ορθότητα εκπαίδευσης είναι μεγαλύτερη από την ορθότητα επαλήθευσης. Αυτό οφείλεται στο φαινόμενο της υπερπροσαρμογής."
      ]
    },
    {
      "cell_type": "markdown",
      "metadata": {
        "id": "srVGOANR8FOC"
      },
      "source": [
        "Αξιολόγηση αποτελεσμάτων όσον αφορά:\n",
        "- Πλήθος Δεδομένων/Κλάσεων: Όσο περισσότερα δεδομένα έχουμε, τόσο καλύτερα εκπαιδεύτεται το μοντέλο, αφού μπορεί να αναγνωρίσει διάφορες μορφές ενός στοιχείου που ανήκει σε μια κατηγορία. Ωστόσο, όσο περισσότερες είναι οι κλάσεις στις οποίες πρέπει να διαχωρίσουμε τα δεδομένα, τόσο μειώνεται η ορθότητα, αφού το μοντέλο πρέπει να αποφασίσει μεταξύ περισσότερων κλάσεων, και άρα η πιθανότητα σφάλματος αυξάνεται.\n",
        "\n",
        "- Αλγόριθμος Βελτιστοποίησης (Optimizer): Παρατηρούμε ότι διαφορετικοί optimizers έχουν καλύτερα αποτελέσαμτα σε διαφορετικά μοντέλα. Για παράδειγμα, ο optimizer Adam είναι η καλύτερη επιλογή για το AlexNet, ενώ ο optimizer RMSprop για το VGG. Έτσι καταλαβαίνουμε ότι δεν υπάρχει κάποιος συγκεκριμένος τρόπος να πούμε ποιος είναι ο καλύτερος optimizer.\n",
        "\n",
        "- Batch Size: Με μικρότερα batch sizes, η εκπαίδευση απαιτεί λιγότερη μνήμη, και τελικά το μοντέλο εκπαιδεύεται καλύτερα, γιατί τα βάρη ανανεώνονται περισσότερες φορές. Παράλληλα όμως, χρειάζεται περισσότερο χρόνο κατά την εκπαίδευση, αφού γίνονται περισσότερα forward και backward passes, και ο υπολογισμός του gradient δεν είναι τόσο ακριβής, μιας και χρησιμοποιούμε λιγότερα δείγματα στον υπολογισμό του."
      ]
    },
    {
      "cell_type": "markdown",
      "metadata": {
        "id": "Z0BBpY7m19tU"
      },
      "source": [
        "Model|Test Accuracy\n",
        "---|---\n",
        "LeNet1|0.05\n",
        "LeNet2|0.3065\n",
        "AlexNet1|0.3810\n",
        "AlexNet2|0.3595\n",
        "VGG1|0.4885\n",
        "VGG2|0.5185\n",
        "MyCNN1|0.4960\n",
        "MyCNN2|0.4940\n",
        "\n",
        "Παρατηρούμε ότι όλα τα μοντέλα έχουν παρόμοια test ορ΄θτητα με την αντίστοιχη ορθότητα επαλήθευσης. Επίσης τα μοντέλα με τα καλύτερα αποτελέσματα είναι το AlexNet και το MyCNN."
      ]
    },
    {
      "cell_type": "markdown",
      "metadata": {
        "id": "v8rhgSGOV5pm"
      },
      "source": [
        "\n",
        "### Ερώτημα 2\n",
        "---\n",
        "#### Βήμα 1: Έλεγχος υπερεκπαίδευσης\n",
        "\n",
        "Για τον καλύτερο συνδυασμό που λάβατε από το Ερώτημα 1 για μοντέλο σας  (**MyCNN**) και μόνο, δοκιμάστε διάφορους συνδυασμούς των ακόλουθων τεχνικών για τον έλεγχο της υπερεκπαίδευσης (overfitting), όπως:\n",
        "\n",
        "- Dropout ([Dropout](https://www.tensorflow.org/tutorials/images/classification#dropout))\n",
        "\n",
        "- Επαύξηση δεδομένων ([Data augmentation](https://www.tensorflow.org/tutorials/images/classification#data_augmentation), [ImageDataGenerator](https://www.tensorflow.org/api_docs/python/tf/keras/preprocessing/image/ImageDataGenerator#class_imagedatagenerator))\n",
        "\n",
        "\\\\\n",
        ", ώστε το μοντέλο σας να γενικεύει καλύτερα.\n",
        "\n",
        "---\n",
        "#### Βήμα 2: Αξιολόγηση\n",
        "Αξιολογήστε της ορθότητας για το validation και το test set σας."
      ]
    },
    {
      "cell_type": "markdown",
      "metadata": {
        "id": "o4euCQTCL9Qq"
      },
      "source": [
        "Βήμα 1: Έλεγχος υπερεκπαίδευσης"
      ]
    },
    {
      "cell_type": "markdown",
      "metadata": {
        "id": "a0ai7yCFqV13"
      },
      "source": [
        "Dropout"
      ]
    },
    {
      "cell_type": "code",
      "execution_count": null,
      "metadata": {
        "id": "fr_DXDuUsb2f"
      },
      "outputs": [],
      "source": [
        "def dropout(dropout_val):\n",
        "  dropout_layer = models.Sequential()\n",
        "  dropout_layer.add(layers.Dropout(dropout_val))\n",
        "  return dropout_layer"
      ]
    },
    {
      "cell_type": "markdown",
      "metadata": {
        "id": "y1hG1fMDqWzn"
      },
      "source": [
        "Επαύξηση δεδομένων (Data augmentation, ImageDataGenerator)"
      ]
    },
    {
      "cell_type": "code",
      "execution_count": null,
      "metadata": {
        "id": "dQ-JXyjBsgae"
      },
      "outputs": [],
      "source": [
        "from tensorflow import keras\n",
        "\n",
        "data_augmentation = keras.Sequential(\n",
        "  [\n",
        "    layers.experimental.preprocessing.RandomFlip(\"horizontal\",\n",
        "                                                 input_shape=(32, 32, 3)),\n",
        "    layers.experimental.preprocessing.RandomRotation(0.1),\n",
        "    layers.experimental.preprocessing.RandomZoom(0.1),\n",
        "  ]\n",
        ")"
      ]
    },
    {
      "cell_type": "markdown",
      "metadata": {
        "id": "ol1LaJqRwZxm"
      },
      "source": [
        "Νέο Μοντέλο"
      ]
    },
    {
      "cell_type": "code",
      "execution_count": null,
      "metadata": {
        "colab": {
          "base_uri": "https://localhost:8080/"
        },
        "id": "pY0j1cvYt1Mv",
        "outputId": "15094deb-328c-4312-812b-facc4920b673"
      },
      "outputs": [
        {
          "name": "stdout",
          "output_type": "stream",
          "text": [
            "Sequential output shape: \t (1, 32, 32, 3)\n",
            "Conv2D output shape: \t (1, 32, 32, 96)\n",
            "MaxPooling2D output shape: \t (1, 15, 15, 96)\n",
            "Conv2D output shape: \t (1, 15, 15, 256)\n",
            "MaxPooling2D output shape: \t (1, 7, 7, 256)\n",
            "Conv2D output shape: \t (1, 7, 7, 384)\n",
            "MaxPooling2D output shape: \t (1, 3, 3, 384)\n",
            "Flatten output shape: \t (1, 3456)\n",
            "Dense output shape: \t (1, 4096)\n",
            "Sequential output shape: \t (1, 4096)\n",
            "Dense output shape: \t (1, 20)\n"
          ]
        }
      ],
      "source": [
        "def MyCNN_dropout_data_aug(dropout_val,data_augment):\n",
        "  model = models.Sequential()\n",
        "  if(data_augment):\n",
        "    model.add(data_augmentation)\n",
        "  model.add(layers.Conv2D(filters=96, kernel_size=3, padding='same', activation='relu', input_shape=(32, 32, 3)))\n",
        "  model.add(layers.MaxPool2D(pool_size=3, strides=2))\n",
        "  model.add(layers.Conv2D(filters=256, kernel_size=3, padding='same', activation='relu'))\n",
        "  model.add(layers.MaxPool2D(pool_size=3, strides=2))\n",
        "  model.add(layers.Conv2D(filters=384, kernel_size=3, padding='same', activation='relu'))\n",
        "  model.add(layers.MaxPool2D(pool_size=3, strides=2))\n",
        "  model.add(layers.Flatten())\n",
        "  model.add(layers.Dense(4096, activation='relu'))\n",
        "  model.add(dropout(dropout_val))\n",
        "  model.add(layers.Dense(20))\n",
        "  return model\n",
        "\n",
        "X = tf.random.uniform((1, 32, 32, 3))\n",
        "for layer in MyCNN_dropout_data_aug(0.5,True).layers:\n",
        "    X = layer(X)\n",
        "    print(layer.__class__.__name__, 'output shape: \\t', X.shape)"
      ]
    },
    {
      "cell_type": "markdown",
      "metadata": {
        "id": "8wFwvcBbwc6-"
      },
      "source": [
        "### Δοκιμές"
      ]
    },
    {
      "cell_type": "markdown",
      "metadata": {
        "id": "6UCcU1UbxBZ-"
      },
      "source": [
        "Χωρίς data augmentation και dropout = 0.1"
      ]
    },
    {
      "cell_type": "code",
      "execution_count": null,
      "metadata": {
        "colab": {
          "base_uri": "https://localhost:8080/"
        },
        "id": "djU0HG55wsU2",
        "outputId": "2d251e58-0e1c-42e0-90dd-7fdf3895508d"
      },
      "outputs": [
        {
          "name": "stdout",
          "output_type": "stream",
          "text": [
            "Epoch 1/15\n",
            "67/67 [==============================] - 117s 2s/step - loss: 2.7577 - accuracy: 0.1348 - val_loss: 2.4269 - val_accuracy: 0.2293\n",
            "Epoch 2/15\n",
            "67/67 [==============================] - 113s 2s/step - loss: 2.2840 - accuracy: 0.2864 - val_loss: 2.1625 - val_accuracy: 0.3033\n",
            "Epoch 3/15\n",
            "67/67 [==============================] - 115s 2s/step - loss: 2.0237 - accuracy: 0.3596 - val_loss: 1.9601 - val_accuracy: 0.3607\n",
            "Epoch 4/15\n",
            "67/67 [==============================] - 112s 2s/step - loss: 1.7948 - accuracy: 0.4300 - val_loss: 1.7078 - val_accuracy: 0.4587\n",
            "Epoch 5/15\n",
            "67/67 [==============================] - 114s 2s/step - loss: 1.6186 - accuracy: 0.4871 - val_loss: 1.6729 - val_accuracy: 0.4753\n",
            "Epoch 6/15\n",
            "67/67 [==============================] - 114s 2s/step - loss: 1.4874 - accuracy: 0.5371 - val_loss: 1.5740 - val_accuracy: 0.4927\n",
            "Epoch 7/15\n",
            "67/67 [==============================] - 112s 2s/step - loss: 1.3027 - accuracy: 0.5845 - val_loss: 1.5476 - val_accuracy: 0.5173\n",
            "Epoch 8/15\n",
            "67/67 [==============================] - 114s 2s/step - loss: 1.1337 - accuracy: 0.6327 - val_loss: 1.5730 - val_accuracy: 0.5147\n",
            "Epoch 9/15\n",
            "67/67 [==============================] - 112s 2s/step - loss: 0.9480 - accuracy: 0.6934 - val_loss: 1.5073 - val_accuracy: 0.5480\n",
            "Epoch 10/15\n",
            "67/67 [==============================] - 113s 2s/step - loss: 0.8361 - accuracy: 0.7276 - val_loss: 1.5141 - val_accuracy: 0.5453\n",
            "Epoch 11/15\n",
            "67/67 [==============================] - 112s 2s/step - loss: 0.6628 - accuracy: 0.7836 - val_loss: 1.5975 - val_accuracy: 0.5673\n",
            "Epoch 12/15\n",
            "67/67 [==============================] - 112s 2s/step - loss: 0.5505 - accuracy: 0.8184 - val_loss: 1.6261 - val_accuracy: 0.5593\n",
            "Epoch 13/15\n",
            "67/67 [==============================] - 113s 2s/step - loss: 0.3971 - accuracy: 0.8728 - val_loss: 1.8157 - val_accuracy: 0.5587\n",
            "Epoch 14/15\n",
            "67/67 [==============================] - 112s 2s/step - loss: 0.3017 - accuracy: 0.9032 - val_loss: 1.9933 - val_accuracy: 0.5700\n",
            "Epoch 15/15\n",
            "67/67 [==============================] - 113s 2s/step - loss: 0.2421 - accuracy: 0.9249 - val_loss: 1.9963 - val_accuracy: 0.5673\n"
          ]
        }
      ],
      "source": [
        "MyCNN_test_1 = MyCNN_dropout_data_aug(0.1, False)\n",
        "\n",
        "MyCNN_test_1.compile(optimizer='Adam',\n",
        "              loss=tf.keras.losses.SparseCategoricalCrossentropy(from_logits=True),\n",
        "              metrics=['accuracy'])\n",
        "\n",
        "MyCNN_history_test_1 = MyCNN_test_1.fit(x_train, y_train_to20, epochs=15, batch_size=128,\n",
        "                    validation_data=(x_val, y_val_to20))"
      ]
    },
    {
      "cell_type": "markdown",
      "metadata": {
        "id": "-gNmsPjSye89"
      },
      "source": [
        "Με data augmentation και dropout = 0.1"
      ]
    },
    {
      "cell_type": "code",
      "execution_count": null,
      "metadata": {
        "colab": {
          "base_uri": "https://localhost:8080/"
        },
        "id": "9Qe3gOOEyiFm",
        "outputId": "bb0debdd-6687-4f97-8a0d-64c200218078"
      },
      "outputs": [
        {
          "name": "stdout",
          "output_type": "stream",
          "text": [
            "Epoch 1/15\n",
            "67/67 [==============================] - 115s 2s/step - loss: 2.7849 - accuracy: 0.1275 - val_loss: 2.5086 - val_accuracy: 0.1993\n",
            "Epoch 2/15\n",
            "67/67 [==============================] - 113s 2s/step - loss: 2.3858 - accuracy: 0.2529 - val_loss: 2.1891 - val_accuracy: 0.3233\n",
            "Epoch 3/15\n",
            "67/67 [==============================] - 112s 2s/step - loss: 2.2143 - accuracy: 0.3042 - val_loss: 2.0592 - val_accuracy: 0.3413\n",
            "Epoch 4/15\n",
            "67/67 [==============================] - 114s 2s/step - loss: 2.0399 - accuracy: 0.3593 - val_loss: 1.9175 - val_accuracy: 0.3973\n",
            "Epoch 5/15\n",
            "67/67 [==============================] - 112s 2s/step - loss: 1.9569 - accuracy: 0.3841 - val_loss: 1.9140 - val_accuracy: 0.3940\n",
            "Epoch 6/15\n",
            "67/67 [==============================] - 112s 2s/step - loss: 1.8389 - accuracy: 0.4252 - val_loss: 1.7716 - val_accuracy: 0.4327\n",
            "Epoch 7/15\n",
            "67/67 [==============================] - 113s 2s/step - loss: 1.7375 - accuracy: 0.4544 - val_loss: 1.7700 - val_accuracy: 0.4433\n",
            "Epoch 8/15\n",
            "67/67 [==============================] - 114s 2s/step - loss: 1.6723 - accuracy: 0.4735 - val_loss: 1.7376 - val_accuracy: 0.4580\n",
            "Epoch 9/15\n",
            "67/67 [==============================] - 114s 2s/step - loss: 1.6130 - accuracy: 0.4911 - val_loss: 1.7427 - val_accuracy: 0.4527\n",
            "Epoch 10/15\n",
            "67/67 [==============================] - 113s 2s/step - loss: 1.5132 - accuracy: 0.5228 - val_loss: 1.7358 - val_accuracy: 0.4687\n",
            "Epoch 11/15\n",
            "67/67 [==============================] - 113s 2s/step - loss: 1.4637 - accuracy: 0.5341 - val_loss: 1.7143 - val_accuracy: 0.4820\n",
            "Epoch 12/15\n",
            "67/67 [==============================] - 114s 2s/step - loss: 1.3969 - accuracy: 0.5561 - val_loss: 1.5850 - val_accuracy: 0.5233\n",
            "Epoch 13/15\n",
            "67/67 [==============================] - 112s 2s/step - loss: 1.3287 - accuracy: 0.5741 - val_loss: 1.5752 - val_accuracy: 0.5133\n",
            "Epoch 14/15\n",
            "67/67 [==============================] - 113s 2s/step - loss: 1.2969 - accuracy: 0.5881 - val_loss: 1.6397 - val_accuracy: 0.5000\n",
            "Epoch 15/15\n",
            "67/67 [==============================] - 112s 2s/step - loss: 1.2063 - accuracy: 0.6099 - val_loss: 1.6789 - val_accuracy: 0.5033\n"
          ]
        }
      ],
      "source": [
        "MyCNN_test_2 = MyCNN_dropout_data_aug(0.1, True)\n",
        "\n",
        "MyCNN_test_2.compile(optimizer='Adam',\n",
        "              loss=tf.keras.losses.SparseCategoricalCrossentropy(from_logits=True),\n",
        "              metrics=['accuracy'])\n",
        "\n",
        "MyCNN_history_test_2 = MyCNN_test_2.fit(x_train, y_train_to20, epochs=15, batch_size=128,\n",
        "                    validation_data=(x_val, y_val_to20))"
      ]
    },
    {
      "cell_type": "markdown",
      "metadata": {
        "id": "tcsuxiYVB9-S"
      },
      "source": [
        "Χωρίς data augmentation και dropout = 0.3"
      ]
    },
    {
      "cell_type": "code",
      "execution_count": null,
      "metadata": {
        "colab": {
          "base_uri": "https://localhost:8080/"
        },
        "id": "lo680j1JB8dM",
        "outputId": "c48421f2-f777-4507-e371-84c3041e6176"
      },
      "outputs": [
        {
          "name": "stdout",
          "output_type": "stream",
          "text": [
            "Epoch 1/15\n",
            "67/67 [==============================] - 117s 2s/step - loss: 2.7515 - accuracy: 0.1393 - val_loss: 2.4857 - val_accuracy: 0.2027\n",
            "Epoch 2/15\n",
            "67/67 [==============================] - 113s 2s/step - loss: 2.2938 - accuracy: 0.2842 - val_loss: 2.0848 - val_accuracy: 0.3360\n",
            "Epoch 3/15\n",
            "67/67 [==============================] - 115s 2s/step - loss: 2.0119 - accuracy: 0.3719 - val_loss: 1.9652 - val_accuracy: 0.3567\n",
            "Epoch 4/15\n",
            "67/67 [==============================] - 114s 2s/step - loss: 1.8079 - accuracy: 0.4266 - val_loss: 1.8844 - val_accuracy: 0.4200\n",
            "Epoch 5/15\n",
            "67/67 [==============================] - 114s 2s/step - loss: 1.6482 - accuracy: 0.4756 - val_loss: 1.7124 - val_accuracy: 0.4533\n",
            "Epoch 6/15\n",
            "67/67 [==============================] - 115s 2s/step - loss: 1.4823 - accuracy: 0.5226 - val_loss: 1.5582 - val_accuracy: 0.5027\n",
            "Epoch 7/15\n",
            "67/67 [==============================] - 114s 2s/step - loss: 1.3078 - accuracy: 0.5816 - val_loss: 1.5700 - val_accuracy: 0.5187\n",
            "Epoch 8/15\n",
            "67/67 [==============================] - 113s 2s/step - loss: 1.1619 - accuracy: 0.6235 - val_loss: 1.5139 - val_accuracy: 0.5213\n",
            "Epoch 9/15\n",
            "67/67 [==============================] - 115s 2s/step - loss: 1.0152 - accuracy: 0.6726 - val_loss: 1.4926 - val_accuracy: 0.5233\n",
            "Epoch 10/15\n",
            "67/67 [==============================] - 113s 2s/step - loss: 0.8376 - accuracy: 0.7291 - val_loss: 1.5402 - val_accuracy: 0.5420\n",
            "Epoch 11/15\n",
            "67/67 [==============================] - 113s 2s/step - loss: 0.6746 - accuracy: 0.7833 - val_loss: 1.5636 - val_accuracy: 0.5540\n",
            "Epoch 12/15\n",
            "67/67 [==============================] - 112s 2s/step - loss: 0.5421 - accuracy: 0.8218 - val_loss: 1.6965 - val_accuracy: 0.5420\n",
            "Epoch 13/15\n",
            "67/67 [==============================] - 113s 2s/step - loss: 0.4199 - accuracy: 0.8588 - val_loss: 1.9035 - val_accuracy: 0.5273\n",
            "Epoch 14/15\n",
            "67/67 [==============================] - 114s 2s/step - loss: 0.3079 - accuracy: 0.8978 - val_loss: 1.8869 - val_accuracy: 0.5613\n",
            "Epoch 15/15\n",
            "67/67 [==============================] - 114s 2s/step - loss: 0.2124 - accuracy: 0.9334 - val_loss: 2.0000 - val_accuracy: 0.5567\n"
          ]
        }
      ],
      "source": [
        "MyCNN_test_3 = MyCNN_dropout_data_aug(0.3, False)\n",
        "\n",
        "MyCNN_test_3.compile(optimizer='Adam',\n",
        "              loss=tf.keras.losses.SparseCategoricalCrossentropy(from_logits=True),\n",
        "              metrics=['accuracy'])\n",
        "\n",
        "MyCNN_history_test_3 = MyCNN_test_3.fit(x_train, y_train_to20, epochs=15, batch_size=128,\n",
        "                    validation_data=(x_val, y_val_to20))"
      ]
    },
    {
      "cell_type": "markdown",
      "metadata": {
        "id": "mrPoIzWRCIKz"
      },
      "source": [
        "Με data augmentation και dropout = 0.3"
      ]
    },
    {
      "cell_type": "code",
      "execution_count": null,
      "metadata": {
        "colab": {
          "base_uri": "https://localhost:8080/"
        },
        "id": "TUzGaLRuCMOr",
        "outputId": "6033929c-7958-4c1d-b388-40a7888e7902"
      },
      "outputs": [
        {
          "name": "stdout",
          "output_type": "stream",
          "text": [
            "Epoch 1/15\n",
            "67/67 [==============================] - 114s 2s/step - loss: 2.6976 - accuracy: 0.1527 - val_loss: 2.4079 - val_accuracy: 0.2293\n",
            "Epoch 2/15\n",
            "67/67 [==============================] - 113s 2s/step - loss: 2.3343 - accuracy: 0.2734 - val_loss: 2.1936 - val_accuracy: 0.2860\n",
            "Epoch 3/15\n",
            "67/67 [==============================] - 112s 2s/step - loss: 2.1238 - accuracy: 0.3294 - val_loss: 2.0806 - val_accuracy: 0.3460\n",
            "Epoch 4/15\n",
            "67/67 [==============================] - 113s 2s/step - loss: 1.9690 - accuracy: 0.3794 - val_loss: 2.0611 - val_accuracy: 0.3593\n",
            "Epoch 5/15\n",
            "67/67 [==============================] - 112s 2s/step - loss: 1.8644 - accuracy: 0.4161 - val_loss: 1.7626 - val_accuracy: 0.4413\n",
            "Epoch 6/15\n",
            "67/67 [==============================] - 113s 2s/step - loss: 1.7512 - accuracy: 0.4500 - val_loss: 1.7911 - val_accuracy: 0.4440\n",
            "Epoch 7/15\n",
            "67/67 [==============================] - 124s 2s/step - loss: 1.6838 - accuracy: 0.4667 - val_loss: 1.7917 - val_accuracy: 0.4273\n",
            "Epoch 8/15\n",
            "67/67 [==============================] - 116s 2s/step - loss: 1.5675 - accuracy: 0.4982 - val_loss: 1.7292 - val_accuracy: 0.4793\n",
            "Epoch 9/15\n",
            "67/67 [==============================] - 130s 2s/step - loss: 1.5241 - accuracy: 0.5193 - val_loss: 1.7816 - val_accuracy: 0.4293\n",
            "Epoch 10/15\n",
            "67/67 [==============================] - 137s 2s/step - loss: 1.4246 - accuracy: 0.5475 - val_loss: 1.5929 - val_accuracy: 0.5153\n",
            "Epoch 11/15\n",
            "67/67 [==============================] - 120s 2s/step - loss: 1.3811 - accuracy: 0.5575 - val_loss: 1.5338 - val_accuracy: 0.5113\n",
            "Epoch 12/15\n",
            "67/67 [==============================] - 126s 2s/step - loss: 1.3231 - accuracy: 0.5788 - val_loss: 1.7407 - val_accuracy: 0.4560\n",
            "Epoch 13/15\n",
            "67/67 [==============================] - 119s 2s/step - loss: 1.2662 - accuracy: 0.5980 - val_loss: 1.5254 - val_accuracy: 0.5387\n",
            "Epoch 14/15\n",
            "67/67 [==============================] - 126s 2s/step - loss: 1.1665 - accuracy: 0.6213 - val_loss: 1.5683 - val_accuracy: 0.5327\n",
            "Epoch 15/15\n",
            "67/67 [==============================] - 128s 2s/step - loss: 1.1159 - accuracy: 0.6375 - val_loss: 1.5580 - val_accuracy: 0.5467\n"
          ]
        }
      ],
      "source": [
        "MyCNN_test_4 = MyCNN_dropout_data_aug(0.3, True)\n",
        "\n",
        "MyCNN_test_4.compile(optimizer='Adam',\n",
        "              loss=tf.keras.losses.SparseCategoricalCrossentropy(from_logits=True),\n",
        "              metrics=['accuracy'])\n",
        "\n",
        "MyCNN_history_test_4 = MyCNN_test_4.fit(x_train, y_train_to20, epochs=15, batch_size=128,\n",
        "                    validation_data=(x_val, y_val_to20))"
      ]
    },
    {
      "cell_type": "markdown",
      "metadata": {
        "id": "fO4ZO8anLt5y"
      },
      "source": [
        "Βήμα 2: Αξιολόγηση"
      ]
    },
    {
      "cell_type": "markdown",
      "metadata": {
        "id": "dylqqaLkPrUj"
      },
      "source": [
        "Ως καλύτερη επιλέχθηκε η 3η δοκιμή που κάναμε χωρίς data augmentation και dropout = 0.3.\n",
        "\n",
        "Όπως ήταν αναμενόμενο, η προσθήκη dropout βελτίωσε το μοντέλο μας, αφου αποτελεί τρόπο να εισάγουμε regularization στο μοντέλο, και άρα μεγαλύτερη γενίκευση. Ο τρόπος που δουλεύει είναι να αγνοεί με πιθανότητα κάποιους νευρώνες κατά την εκπαίδευση, και έτσι να αναγκάζει το μοντέλο να μην δημιουργεί \"σημαντικούς\" νευρώνες για την εύρεση κάποιων χαρακτηριστηκών, και έτσι αποφεύγεται και η υπερπροσαρμογή.\n",
        "\n",
        "Συνήθως η επάυξηση δεδομένων εκπαίδευσης φέρει άυξηση της ορθότητας, ωστόσο στην περίπτωσή μας, φαίνεται να μην πρόσφερε ιδιαίτερα."
      ]
    },
    {
      "cell_type": "code",
      "execution_count": null,
      "metadata": {
        "colab": {
          "base_uri": "https://localhost:8080/",
          "height": 472
        },
        "id": "K9qTXPCELwAq",
        "outputId": "d01e3388-733a-4f2e-f7e3-44309dacfb8b"
      },
      "outputs": [
        {
          "name": "stdout",
          "output_type": "stream",
          "text": [
            "63/63 - 6s - loss: 1.9190 - accuracy: 0.5610 - 6s/epoch - 90ms/step\n"
          ]
        },
        {
          "data": {
            "image/png": "[encoded data removed]",
            "text/plain": [
              "<Figure size 640x480 with 1 Axes>"
            ]
          },
          "metadata": {},
          "output_type": "display_data"
        }
      ],
      "source": [
        "plt.plot(MyCNN_history_test_3.history['accuracy'], label='accuracy')\n",
        "plt.plot(MyCNN_history_test_3.history['val_accuracy'], label = 'val_accuracy')\n",
        "plt.xlabel('Epoch')\n",
        "plt.ylabel('Accuracy')\n",
        "plt.ylim([0, 1])\n",
        "plt.legend(loc='lower right')\n",
        "\n",
        "MyCNN__test_loss, MyCNN__test_acc = MyCNN_test_3.evaluate(x_test,  y_test_to20, verbose=2)"
      ]
    },
    {
      "cell_type": "markdown",
      "metadata": {
        "id": "NcO8cPYM1fK1"
      },
      "source": [
        "Validation Accuracy|Test Accuracy\n",
        "---|---\n",
        "0.5467|0.5610\n",
        "\n",
        "Παρατηρούμε ότι με εισαγωγή dropout η ακρίβεια του μοντέλου αυξήθηκε από την τιμή 0.4960 (όπως υπολογίστηκε στο προηγούμενο ερώτημα)."
      ]
    },
    {
      "cell_type": "markdown",
      "metadata": {
        "id": "jTxKRNEHWfGs"
      },
      "source": [
        "### Ερώτημα 3\n",
        "---\n",
        "#### Βήμα 1: Μεταφορά γνώσης\n",
        "Εφαρμόστε μεταφορά γνώσης (transfer learning) στο δικό σας μοντέλο (**MyCNN**), που αξιολογήσατε ως καλύτερο προς την ορθότητα στην αντιμετώπιση της υπερεκπαίδεσης.\n",
        "\n",
        "Για το transfer learning, επιλέξτε το [VGG19](https://www.tensorflow.org/api_docs/python/tf/keras/applications/vgg19)  και το [EfficientNetB0](https://www.tensorflow.org/api_docs/python/tf/keras/applications/efficientnet/EfficientNetB0) για μεταφορά μάθησης.\n",
        "\n",
        "1. \"Παγώστε\" τη συνελικτική βάση και εκπαιδεύστε την κεφαλή ταξινόμησης (classification head - σημαία trainable = False).  \n",
        "\n",
        "2. Εκπαιδέστε μόνο ένα ποσοστό των επιπέδων, το οποίο βρίσκεται προς την έξοδο του δικτύου. Οι σημαίες trainable εδώ θα πρέπει να οριστούν ανά επίπεδο.\n",
        "\n",
        "3. Αξιολογήστε τα αποτελέσματά σας, βάσει της ορθότητας του validation set και του test set σας."
      ]
    },
    {
      "cell_type": "markdown",
      "metadata": {
        "id": "DjiG9KZmMqFb"
      },
      "source": [
        "1.\"Παγώστε\" τη συνελικτική βάση και εκπαιδεύστε την κεφαλή ταξινόμησης (classification head - σημαία trainable = False)."
      ]
    },
    {
      "cell_type": "code",
      "execution_count": null,
      "metadata": {
        "id": "XT788YYeMr36"
      },
      "outputs": [],
      "source": [
        "pretrained_model_VGG19 = tf.keras.applications.VGG19(include_top=False, input_shape=(32, 32, 3))\n",
        "pretrained_model_EfficientNetB0 = tf.keras.applications.EfficientNetB0(include_top=False, input_shape=(32, 32, 3))\n",
        "pretrained_model_VGG19.trainable = False\n",
        "pretrained_model_EfficientNetB0.trainable = False"
      ]
    },
    {
      "cell_type": "markdown",
      "metadata": {
        "id": "P4QkwvNRNI1R"
      },
      "source": [
        "Ορίζουμε το νέο μοντέλο που θα χρησιμοποιήση το pretrained μοντέλο"
      ]
    },
    {
      "cell_type": "code",
      "execution_count": null,
      "metadata": {
        "id": "s-EhLEPeNSti"
      },
      "outputs": [],
      "source": [
        "def MyCNN_transfer_learning(dropout_val,data_augment,pretrained_model):\n",
        "  model = models.Sequential()\n",
        "  model.add(pretrained_model)\n",
        "  model.add(layers.Flatten())\n",
        "  model.add(layers.Dense(200, activation='relu'))\n",
        "  model.add(dropout(dropout_val))\n",
        "  model.add(layers.Dense(20))\n",
        "  return model"
      ]
    },
    {
      "cell_type": "code",
      "execution_count": null,
      "metadata": {
        "colab": {
          "base_uri": "https://localhost:8080/"
        },
        "id": "0ByDcHiHOFY7",
        "outputId": "5edec29a-eeaa-4576-e962-4ea25f61e8f9"
      },
      "outputs": [
        {
          "name": "stdout",
          "output_type": "stream",
          "text": [
            "Functional output shape: \t (1, 1, 1, 512)\n",
            "Flatten output shape: \t (1, 512)\n",
            "Dense output shape: \t (1, 200)\n",
            "Sequential output shape: \t (1, 200)\n",
            "Dense output shape: \t (1, 20)\n"
          ]
        }
      ],
      "source": [
        "X = tf.random.uniform((1, 32, 32, 3))\n",
        "for layer in MyCNN_transfer_learning(0.5,True,pretrained_model_VGG19).layers:\n",
        "    X = layer(X)\n",
        "    print(layer.__class__.__name__, 'output shape: \\t', X.shape)"
      ]
    },
    {
      "cell_type": "code",
      "execution_count": null,
      "metadata": {
        "colab": {
          "base_uri": "https://localhost:8080/"
        },
        "id": "yUbNIbSKR8ri",
        "outputId": "a0423f72-2b03-4a04-b25a-9f57e3c3df8d"
      },
      "outputs": [
        {
          "name": "stdout",
          "output_type": "stream",
          "text": [
            "Functional output shape: \t (1, 1, 1, 1280)\n",
            "Flatten output shape: \t (1, 1280)\n",
            "Dense output shape: \t (1, 200)\n",
            "Sequential output shape: \t (1, 200)\n",
            "Dense output shape: \t (1, 20)\n"
          ]
        }
      ],
      "source": [
        "X = tf.random.uniform((1, 32, 32, 3))\n",
        "for layer in MyCNN_transfer_learning(0.5,True,pretrained_model_EfficientNetB0).layers:\n",
        "    X = layer(X)\n",
        "    print(layer.__class__.__name__, 'output shape: \\t', X.shape)"
      ]
    },
    {
      "cell_type": "markdown",
      "metadata": {
        "id": "S30fgQjBQ3VT"
      },
      "source": [
        "Μεταγλώτιση και εκπαίδευση"
      ]
    },
    {
      "cell_type": "markdown",
      "metadata": {
        "id": "PHGarT7tSGdJ"
      },
      "source": [
        "VGG19"
      ]
    },
    {
      "cell_type": "code",
      "execution_count": null,
      "metadata": {
        "colab": {
          "base_uri": "https://localhost:8080/"
        },
        "id": "hmumBEt9OMzq",
        "outputId": "64463668-1e2e-414f-9002-1523c7a5f2b1"
      },
      "outputs": [
        {
          "name": "stdout",
          "output_type": "stream",
          "text": [
            "Epoch 1/30\n",
            "67/67 [==============================] - 6s 54ms/step - loss: 2.5675 - accuracy: 0.2240 - val_loss: 2.1962 - val_accuracy: 0.3267\n",
            "Epoch 2/30\n",
            "67/67 [==============================] - 2s 26ms/step - loss: 2.1624 - accuracy: 0.3365 - val_loss: 2.0588 - val_accuracy: 0.3640\n",
            "Epoch 3/30\n",
            "67/67 [==============================] - 2s 27ms/step - loss: 2.0444 - accuracy: 0.3672 - val_loss: 1.9881 - val_accuracy: 0.3887\n",
            "Epoch 4/30\n",
            "67/67 [==============================] - 2s 27ms/step - loss: 1.9550 - accuracy: 0.3942 - val_loss: 1.9233 - val_accuracy: 0.3987\n",
            "Epoch 5/30\n",
            "67/67 [==============================] - 2s 28ms/step - loss: 1.8901 - accuracy: 0.4152 - val_loss: 1.8958 - val_accuracy: 0.4107\n",
            "Epoch 6/30\n",
            "67/67 [==============================] - 2s 28ms/step - loss: 1.8374 - accuracy: 0.4282 - val_loss: 1.8795 - val_accuracy: 0.4173\n",
            "Epoch 7/30\n",
            "67/67 [==============================] - 2s 28ms/step - loss: 1.8011 - accuracy: 0.4387 - val_loss: 1.8590 - val_accuracy: 0.4120\n",
            "Epoch 8/30\n",
            "67/67 [==============================] - 2s 27ms/step - loss: 1.7609 - accuracy: 0.4535 - val_loss: 1.8452 - val_accuracy: 0.4273\n",
            "Epoch 9/30\n",
            "67/67 [==============================] - 2s 28ms/step - loss: 1.7201 - accuracy: 0.4641 - val_loss: 1.8251 - val_accuracy: 0.4280\n",
            "Epoch 10/30\n",
            "67/67 [==============================] - 2s 27ms/step - loss: 1.6898 - accuracy: 0.4704 - val_loss: 1.7918 - val_accuracy: 0.4507\n",
            "Epoch 11/30\n",
            "67/67 [==============================] - 2s 28ms/step - loss: 1.6649 - accuracy: 0.4765 - val_loss: 1.8048 - val_accuracy: 0.4327\n",
            "Epoch 12/30\n",
            "67/67 [==============================] - 2s 28ms/step - loss: 1.6269 - accuracy: 0.4880 - val_loss: 1.7824 - val_accuracy: 0.4387\n",
            "Epoch 13/30\n",
            "67/67 [==============================] - 2s 28ms/step - loss: 1.6058 - accuracy: 0.4968 - val_loss: 1.7858 - val_accuracy: 0.4480\n",
            "Epoch 14/30\n",
            "67/67 [==============================] - 2s 27ms/step - loss: 1.5844 - accuracy: 0.5015 - val_loss: 1.7762 - val_accuracy: 0.4460\n",
            "Epoch 15/30\n",
            "67/67 [==============================] - 2s 27ms/step - loss: 1.5594 - accuracy: 0.5139 - val_loss: 1.7639 - val_accuracy: 0.4500\n",
            "Epoch 16/30\n",
            "67/67 [==============================] - 2s 28ms/step - loss: 1.5365 - accuracy: 0.5196 - val_loss: 1.7616 - val_accuracy: 0.4473\n",
            "Epoch 17/30\n",
            "67/67 [==============================] - 2s 28ms/step - loss: 1.5183 - accuracy: 0.5228 - val_loss: 1.7424 - val_accuracy: 0.4600\n",
            "Epoch 18/30\n",
            "67/67 [==============================] - 2s 27ms/step - loss: 1.4912 - accuracy: 0.5287 - val_loss: 1.7503 - val_accuracy: 0.4580\n",
            "Epoch 19/30\n",
            "67/67 [==============================] - 2s 28ms/step - loss: 1.4602 - accuracy: 0.5380 - val_loss: 1.7591 - val_accuracy: 0.4520\n",
            "Epoch 20/30\n",
            "67/67 [==============================] - 2s 30ms/step - loss: 1.4432 - accuracy: 0.5449 - val_loss: 1.7470 - val_accuracy: 0.4613\n",
            "Epoch 21/30\n",
            "67/67 [==============================] - 2s 28ms/step - loss: 1.4248 - accuracy: 0.5532 - val_loss: 1.7444 - val_accuracy: 0.4647\n",
            "Epoch 22/30\n",
            "67/67 [==============================] - 2s 28ms/step - loss: 1.4025 - accuracy: 0.5573 - val_loss: 1.7571 - val_accuracy: 0.4593\n",
            "Epoch 23/30\n",
            "67/67 [==============================] - 2s 27ms/step - loss: 1.3829 - accuracy: 0.5609 - val_loss: 1.7544 - val_accuracy: 0.4520\n",
            "Epoch 24/30\n",
            "67/67 [==============================] - 2s 27ms/step - loss: 1.3810 - accuracy: 0.5660 - val_loss: 1.7388 - val_accuracy: 0.4587\n",
            "Epoch 25/30\n",
            "67/67 [==============================] - 2s 28ms/step - loss: 1.3483 - accuracy: 0.5734 - val_loss: 1.7374 - val_accuracy: 0.4693\n",
            "Epoch 26/30\n",
            "67/67 [==============================] - 2s 29ms/step - loss: 1.3378 - accuracy: 0.5811 - val_loss: 1.7325 - val_accuracy: 0.4727\n",
            "Epoch 27/30\n",
            "67/67 [==============================] - 2s 29ms/step - loss: 1.3130 - accuracy: 0.5816 - val_loss: 1.7479 - val_accuracy: 0.4607\n",
            "Epoch 28/30\n",
            "67/67 [==============================] - 2s 28ms/step - loss: 1.2973 - accuracy: 0.5849 - val_loss: 1.7452 - val_accuracy: 0.4680\n",
            "Epoch 29/30\n",
            "67/67 [==============================] - 2s 28ms/step - loss: 1.2851 - accuracy: 0.5899 - val_loss: 1.7509 - val_accuracy: 0.4607\n",
            "Epoch 30/30\n",
            "67/67 [==============================] - 2s 28ms/step - loss: 1.2751 - accuracy: 0.5989 - val_loss: 1.7388 - val_accuracy: 0.4787\n"
          ]
        }
      ],
      "source": [
        "MyCNN_model_VGG19_transfer_learning = MyCNN_transfer_learning(0.3, False,pretrained_model_VGG19)\n",
        "\n",
        "MyCNN_model_VGG19_transfer_learning.compile(optimizer='Adam',\n",
        "              loss=tf.keras.losses.SparseCategoricalCrossentropy(from_logits=True),\n",
        "              metrics=['accuracy'])\n",
        "\n",
        "MyCNN_VGG19_history_transfer_learning = MyCNN_model_VGG19_transfer_learning.fit(x_train, y_train_to20, epochs=30, batch_size=128,\n",
        "                    validation_data=(x_val, y_val_to20))"
      ]
    },
    {
      "cell_type": "markdown",
      "metadata": {
        "id": "30wLoqufSHrZ"
      },
      "source": [
        "EfficientNetB0"
      ]
    },
    {
      "cell_type": "code",
      "execution_count": null,
      "metadata": {
        "colab": {
          "base_uri": "https://localhost:8080/"
        },
        "id": "GC-0Am3SSKFK",
        "outputId": "309c5acd-637b-49f3-9fb8-d06a66cb64a1"
      },
      "outputs": [
        {
          "name": "stdout",
          "output_type": "stream",
          "text": [
            "Epoch 1/20\n",
            "67/67 [==============================] - 10s 57ms/step - loss: 3.0103 - accuracy: 0.0526 - val_loss: 2.9995 - val_accuracy: 0.0500\n",
            "Epoch 2/20\n",
            "67/67 [==============================] - 1s 14ms/step - loss: 2.9958 - accuracy: 0.0484 - val_loss: 2.9961 - val_accuracy: 0.0453\n",
            "Epoch 3/20\n",
            "67/67 [==============================] - 1s 14ms/step - loss: 2.9958 - accuracy: 0.0458 - val_loss: 2.9962 - val_accuracy: 0.0453\n",
            "Epoch 4/20\n",
            "67/67 [==============================] - 1s 13ms/step - loss: 2.9958 - accuracy: 0.0511 - val_loss: 2.9965 - val_accuracy: 0.0453\n",
            "Epoch 5/20\n",
            "67/67 [==============================] - 1s 14ms/step - loss: 2.9958 - accuracy: 0.0491 - val_loss: 2.9965 - val_accuracy: 0.0447\n",
            "Epoch 6/20\n",
            "67/67 [==============================] - 1s 14ms/step - loss: 2.9959 - accuracy: 0.0475 - val_loss: 2.9967 - val_accuracy: 0.0453\n",
            "Epoch 7/20\n",
            "67/67 [==============================] - 1s 14ms/step - loss: 2.9957 - accuracy: 0.0511 - val_loss: 2.9968 - val_accuracy: 0.0420\n",
            "Epoch 8/20\n",
            "67/67 [==============================] - 1s 14ms/step - loss: 2.9958 - accuracy: 0.0489 - val_loss: 2.9969 - val_accuracy: 0.0420\n",
            "Epoch 9/20\n",
            "67/67 [==============================] - 1s 13ms/step - loss: 2.9958 - accuracy: 0.0474 - val_loss: 2.9971 - val_accuracy: 0.0420\n",
            "Epoch 10/20\n",
            "67/67 [==============================] - 1s 14ms/step - loss: 2.9958 - accuracy: 0.0514 - val_loss: 2.9971 - val_accuracy: 0.0420\n",
            "Epoch 11/20\n",
            "67/67 [==============================] - 1s 19ms/step - loss: 2.9958 - accuracy: 0.0514 - val_loss: 2.9972 - val_accuracy: 0.0420\n",
            "Epoch 12/20\n",
            "67/67 [==============================] - 1s 17ms/step - loss: 2.9958 - accuracy: 0.0498 - val_loss: 2.9973 - val_accuracy: 0.0420\n",
            "Epoch 13/20\n",
            "67/67 [==============================] - 1s 14ms/step - loss: 2.9957 - accuracy: 0.0514 - val_loss: 2.9973 - val_accuracy: 0.0420\n",
            "Epoch 14/20\n",
            "67/67 [==============================] - 1s 14ms/step - loss: 2.9957 - accuracy: 0.0514 - val_loss: 2.9972 - val_accuracy: 0.0420\n",
            "Epoch 15/20\n",
            "67/67 [==============================] - 1s 14ms/step - loss: 2.9957 - accuracy: 0.0514 - val_loss: 2.9973 - val_accuracy: 0.0420\n",
            "Epoch 16/20\n",
            "67/67 [==============================] - 1s 14ms/step - loss: 2.9957 - accuracy: 0.0514 - val_loss: 2.9973 - val_accuracy: 0.0420\n",
            "Epoch 17/20\n",
            "67/67 [==============================] - 1s 14ms/step - loss: 2.9957 - accuracy: 0.0514 - val_loss: 2.9974 - val_accuracy: 0.0420\n",
            "Epoch 18/20\n",
            "67/67 [==============================] - 1s 14ms/step - loss: 2.9958 - accuracy: 0.0492 - val_loss: 2.9974 - val_accuracy: 0.0420\n",
            "Epoch 19/20\n",
            "67/67 [==============================] - 1s 16ms/step - loss: 2.9957 - accuracy: 0.0514 - val_loss: 2.9974 - val_accuracy: 0.0420\n",
            "Epoch 20/20\n",
            "67/67 [==============================] - 1s 21ms/step - loss: 2.9961 - accuracy: 0.0521 - val_loss: 2.9974 - val_accuracy: 0.0420\n"
          ]
        }
      ],
      "source": [
        "MyCNN_model_EfficientNetB0_transfer_learning = MyCNN_transfer_learning(0.3, False,pretrained_model_EfficientNetB0)\n",
        "\n",
        "MyCNN_model_EfficientNetB0_transfer_learning.compile(optimizer='Adam',\n",
        "              loss=tf.keras.losses.SparseCategoricalCrossentropy(from_logits=True),\n",
        "              metrics=['accuracy'])\n",
        "\n",
        "MyCNN_EfficientNetB0_history_transfer_learning = MyCNN_model_EfficientNetB0_transfer_learning.fit(x_train, y_train_to20, epochs=20, batch_size=128,\n",
        "                    validation_data=(x_val, y_val_to20))"
      ]
    },
    {
      "cell_type": "markdown",
      "metadata": {
        "id": "aZOFeoaLRHX5"
      },
      "source": [
        "2.Εκπαιδέστε μόνο ένα ποσοστό των επιπέδων, το οποίο βρίσκεται προς την έξοδο του δικτύου. Οι σημαίες trainable εδώ θα πρέπει να οριστούν ανά επίπεδο."
      ]
    },
    {
      "cell_type": "code",
      "execution_count": null,
      "metadata": {
        "colab": {
          "base_uri": "https://localhost:8080/"
        },
        "id": "cb5HFCB6RQPJ",
        "outputId": "52795f8e-e0ec-42c6-b9e1-094156fb1197"
      },
      "outputs": [
        {
          "name": "stdout",
          "output_type": "stream",
          "text": [
            "VGG19:\n",
            "1 InputLayer output shape: \t (1, 32, 32, 3)\n",
            "2 Conv2D output shape: \t (1, 32, 32, 64)\n",
            "3 Conv2D output shape: \t (1, 32, 32, 64)\n",
            "4 MaxPooling2D output shape: \t (1, 16, 16, 64)\n",
            "5 Conv2D output shape: \t (1, 16, 16, 128)\n",
            "6 Conv2D output shape: \t (1, 16, 16, 128)\n",
            "7 MaxPooling2D output shape: \t (1, 8, 8, 128)\n",
            "8 Conv2D output shape: \t (1, 8, 8, 256)\n",
            "9 Conv2D output shape: \t (1, 8, 8, 256)\n",
            "10 Conv2D output shape: \t (1, 8, 8, 256)\n",
            "11 Conv2D output shape: \t (1, 8, 8, 256)\n",
            "12 MaxPooling2D output shape: \t (1, 4, 4, 256)\n",
            "13 Conv2D output shape: \t (1, 4, 4, 512)\n",
            "14 Conv2D output shape: \t (1, 4, 4, 512)\n",
            "15 Conv2D output shape: \t (1, 4, 4, 512)\n",
            "16 Conv2D output shape: \t (1, 4, 4, 512)\n",
            "17 MaxPooling2D output shape: \t (1, 2, 2, 512)\n",
            "18 Conv2D output shape: \t (1, 2, 2, 512)\n",
            "19 Conv2D output shape: \t (1, 2, 2, 512)\n",
            "20 Conv2D output shape: \t (1, 2, 2, 512)\n",
            "21 Conv2D output shape: \t (1, 2, 2, 512)\n",
            "22 MaxPooling2D output shape: \t (1, 1, 1, 512)\n",
            "EfficientNetB0:\n",
            "1 InputLayer output shape: \t (1, 32, 32, 3)\n",
            "2 Conv2D output shape: \t (1, 32, 32, 64)\n",
            "3 Conv2D output shape: \t (1, 32, 32, 64)\n",
            "4 MaxPooling2D output shape: \t (1, 16, 16, 64)\n",
            "5 Conv2D output shape: \t (1, 16, 16, 128)\n",
            "6 Conv2D output shape: \t (1, 16, 16, 128)\n",
            "7 MaxPooling2D output shape: \t (1, 8, 8, 128)\n",
            "8 Conv2D output shape: \t (1, 8, 8, 256)\n",
            "9 Conv2D output shape: \t (1, 8, 8, 256)\n",
            "10 Conv2D output shape: \t (1, 8, 8, 256)\n",
            "11 Conv2D output shape: \t (1, 8, 8, 256)\n",
            "12 MaxPooling2D output shape: \t (1, 4, 4, 256)\n",
            "13 Conv2D output shape: \t (1, 4, 4, 512)\n",
            "14 Conv2D output shape: \t (1, 4, 4, 512)\n",
            "15 Conv2D output shape: \t (1, 4, 4, 512)\n",
            "16 Conv2D output shape: \t (1, 4, 4, 512)\n",
            "17 MaxPooling2D output shape: \t (1, 2, 2, 512)\n",
            "18 Conv2D output shape: \t (1, 2, 2, 512)\n",
            "19 Conv2D output shape: \t (1, 2, 2, 512)\n",
            "20 Conv2D output shape: \t (1, 2, 2, 512)\n",
            "21 Conv2D output shape: \t (1, 2, 2, 512)\n",
            "22 MaxPooling2D output shape: \t (1, 1, 1, 512)\n"
          ]
        }
      ],
      "source": [
        "pretrained_model_VGG19_2 = tf.keras.applications.VGG19(input_shape=(32,32,3), include_top=False)\n",
        "pretrained_model_EfficientNetB0_2 = tf.keras.applications.VGG19(input_shape=(32,32,3), include_top=False)\n",
        "pretrained_model_VGG19.trainable = False\n",
        "pretrained_model_EfficientNetB0.trainable = False\n",
        "\n",
        "print(\"VGG19:\")\n",
        "\n",
        "X = tf.random.uniform((1, 32, 32, 3))\n",
        "i = 1\n",
        "for layer in pretrained_model_VGG19_2.layers:\n",
        "    X = layer(X)\n",
        "    print(i,layer.__class__.__name__, 'output shape: \\t', X.shape)\n",
        "    i+=1\n",
        "\n",
        "print(\"EfficientNetB0:\")\n",
        "\n",
        "X = tf.random.uniform((1, 32, 32, 3))\n",
        "i = 1\n",
        "for layer in pretrained_model_EfficientNetB0_2.layers:\n",
        "    X = layer(X)\n",
        "    print(i,layer.__class__.__name__, 'output shape: \\t', X.shape)\n",
        "    i+=1"
      ]
    },
    {
      "cell_type": "markdown",
      "metadata": {
        "id": "AdDJ0KQrdUR4"
      },
      "source": [
        "Αλλαγή σημαίας trainable σε True για τα επίπεδα 10-22 των μοντέλων."
      ]
    },
    {
      "cell_type": "code",
      "execution_count": null,
      "metadata": {
        "id": "QOlTRUI5dGzg"
      },
      "outputs": [],
      "source": [
        "i = 1\n",
        "for layer in pretrained_model_VGG19_2.layers:\n",
        "  if(i<10):\n",
        "    layer.trainable = False\n",
        "  i += 1"
      ]
    },
    {
      "cell_type": "code",
      "execution_count": null,
      "metadata": {
        "colab": {
          "base_uri": "https://localhost:8080/"
        },
        "id": "XQCAKFN4dM8o",
        "outputId": "130dd9b3-be0c-466e-9342-4f4c01610ac0"
      },
      "outputs": [
        {
          "name": "stdout",
          "output_type": "stream",
          "text": [
            "1 False\n",
            "2 False\n",
            "3 False\n",
            "4 False\n",
            "5 False\n",
            "6 False\n",
            "7 False\n",
            "8 False\n",
            "9 False\n",
            "10 True\n",
            "11 True\n",
            "12 True\n",
            "13 True\n",
            "14 True\n",
            "15 True\n",
            "16 True\n",
            "17 True\n",
            "18 True\n",
            "19 True\n",
            "20 True\n",
            "21 True\n",
            "22 True\n"
          ]
        }
      ],
      "source": [
        "i = 1\n",
        "for layer in pretrained_model_EfficientNetB0_2.layers:\n",
        "  if(i<10):\n",
        "    layer.trainable = False\n",
        "  print(i,layer.trainable)\n",
        "  i += 1"
      ]
    },
    {
      "cell_type": "markdown",
      "metadata": {
        "id": "_RxCVa3Be0VH"
      },
      "source": [
        "Ορίζουμε το νέο μοντέλο που θα χρησιμοποιήση το pretrained μοντέλο 2"
      ]
    },
    {
      "cell_type": "code",
      "execution_count": null,
      "metadata": {
        "id": "YEnwyq46eQdI"
      },
      "outputs": [],
      "source": [
        "def MyCNN_transfer_learning_2(dropout_val,data_augment,pretrained_model):\n",
        "  model = models.Sequential()\n",
        "  model.add(pretrained_model)\n",
        "  model.add(layers.Flatten())\n",
        "  model.add(layers.Dense(200, activation='relu'))\n",
        "  model.add(dropout(dropout_val))\n",
        "  model.add(layers.Dense(20))\n",
        "  return model"
      ]
    },
    {
      "cell_type": "code",
      "execution_count": null,
      "metadata": {
        "colab": {
          "base_uri": "https://localhost:8080/"
        },
        "id": "ncoERySTebzg",
        "outputId": "d7ede0c1-3c90-4a50-cff5-cd515df982a6"
      },
      "outputs": [
        {
          "name": "stdout",
          "output_type": "stream",
          "text": [
            "Functional output shape: \t (1, 1, 1, 512)\n",
            "Flatten output shape: \t (1, 512)\n",
            "Dense output shape: \t (1, 200)\n",
            "Sequential output shape: \t (1, 200)\n",
            "Dense output shape: \t (1, 20)\n"
          ]
        }
      ],
      "source": [
        "X = tf.random.uniform((1, 32, 32, 3))\n",
        "for layer in MyCNN_transfer_learning_2(0.3, False,pretrained_model_VGG19_2).layers:\n",
        "    X = layer(X)\n",
        "    print(layer.__class__.__name__, 'output shape: \\t', X.shape)"
      ]
    },
    {
      "cell_type": "markdown",
      "metadata": {
        "id": "eUGFQAZIf4pY"
      },
      "source": [
        "Μεταγλώτιση και εκπαίδευση"
      ]
    },
    {
      "cell_type": "markdown",
      "metadata": {
        "id": "6K9dXWMIgpjx"
      },
      "source": [
        "VGG19"
      ]
    },
    {
      "cell_type": "code",
      "execution_count": null,
      "metadata": {
        "colab": {
          "base_uri": "https://localhost:8080/"
        },
        "id": "iqid2k9Tf74A",
        "outputId": "32ee3a17-28b9-4a13-a5f8-20d24cc15eec"
      },
      "outputs": [
        {
          "name": "stdout",
          "output_type": "stream",
          "text": [
            "Epoch 1/30\n",
            "67/67 [==============================] - 9s 60ms/step - loss: 2.9441 - accuracy: 0.0787 - val_loss: 2.7739 - val_accuracy: 0.0900\n",
            "Epoch 2/30\n",
            "67/67 [==============================] - 4s 57ms/step - loss: 2.7614 - accuracy: 0.1091 - val_loss: 2.6379 - val_accuracy: 0.1340\n",
            "Epoch 3/30\n",
            "67/67 [==============================] - 4s 56ms/step - loss: 2.6652 - accuracy: 0.1352 - val_loss: 2.6563 - val_accuracy: 0.1240\n",
            "Epoch 4/30\n",
            "67/67 [==============================] - 4s 56ms/step - loss: 2.5675 - accuracy: 0.1706 - val_loss: 2.4136 - val_accuracy: 0.2040\n",
            "Epoch 5/30\n",
            "67/67 [==============================] - 4s 57ms/step - loss: 2.4559 - accuracy: 0.1946 - val_loss: 2.3289 - val_accuracy: 0.2353\n",
            "Epoch 6/30\n",
            "67/67 [==============================] - 4s 57ms/step - loss: 2.3592 - accuracy: 0.2278 - val_loss: 2.3272 - val_accuracy: 0.2327\n",
            "Epoch 7/30\n",
            "67/67 [==============================] - 4s 57ms/step - loss: 2.2969 - accuracy: 0.2528 - val_loss: 2.3261 - val_accuracy: 0.2480\n",
            "Epoch 8/30\n",
            "67/67 [==============================] - 4s 56ms/step - loss: 2.1989 - accuracy: 0.2754 - val_loss: 2.1745 - val_accuracy: 0.2907\n",
            "Epoch 9/30\n",
            "67/67 [==============================] - 4s 57ms/step - loss: 2.1286 - accuracy: 0.3106 - val_loss: 2.1475 - val_accuracy: 0.3180\n",
            "Epoch 10/30\n",
            "67/67 [==============================] - 4s 56ms/step - loss: 1.9978 - accuracy: 0.3458 - val_loss: 2.1047 - val_accuracy: 0.3133\n",
            "Epoch 11/30\n",
            "67/67 [==============================] - 4s 56ms/step - loss: 1.9328 - accuracy: 0.3660 - val_loss: 2.0373 - val_accuracy: 0.3593\n",
            "Epoch 12/30\n",
            "67/67 [==============================] - 4s 55ms/step - loss: 1.9038 - accuracy: 0.3724 - val_loss: 2.0185 - val_accuracy: 0.3500\n",
            "Epoch 13/30\n",
            "67/67 [==============================] - 4s 56ms/step - loss: 1.8634 - accuracy: 0.3861 - val_loss: 2.0500 - val_accuracy: 0.3427\n",
            "Epoch 14/30\n",
            "67/67 [==============================] - 4s 55ms/step - loss: 1.8299 - accuracy: 0.3942 - val_loss: 1.9532 - val_accuracy: 0.3653\n",
            "Epoch 15/30\n",
            "67/67 [==============================] - 4s 64ms/step - loss: 1.7448 - accuracy: 0.4242 - val_loss: 2.2222 - val_accuracy: 0.3060\n",
            "Epoch 16/30\n",
            "67/67 [==============================] - 4s 54ms/step - loss: 1.7650 - accuracy: 0.4144 - val_loss: 1.9626 - val_accuracy: 0.3680\n",
            "Epoch 17/30\n",
            "67/67 [==============================] - 4s 54ms/step - loss: 1.6584 - accuracy: 0.4368 - val_loss: 1.9260 - val_accuracy: 0.3893\n",
            "Epoch 18/30\n",
            "67/67 [==============================] - 4s 56ms/step - loss: 1.6245 - accuracy: 0.4585 - val_loss: 1.9834 - val_accuracy: 0.3720\n",
            "Epoch 19/30\n",
            "67/67 [==============================] - 4s 55ms/step - loss: 1.5591 - accuracy: 0.4781 - val_loss: 2.0024 - val_accuracy: 0.4187\n",
            "Epoch 20/30\n",
            "67/67 [==============================] - 4s 54ms/step - loss: 1.4656 - accuracy: 0.5098 - val_loss: 1.8561 - val_accuracy: 0.4147\n",
            "Epoch 21/30\n",
            "67/67 [==============================] - 4s 54ms/step - loss: 1.4062 - accuracy: 0.5292 - val_loss: 1.8206 - val_accuracy: 0.4513\n",
            "Epoch 22/30\n",
            "67/67 [==============================] - 4s 56ms/step - loss: 1.3518 - accuracy: 0.5382 - val_loss: 1.9362 - val_accuracy: 0.4547\n",
            "Epoch 23/30\n",
            "67/67 [==============================] - 4s 54ms/step - loss: 1.2754 - accuracy: 0.5678 - val_loss: 1.8505 - val_accuracy: 0.4613\n",
            "Epoch 24/30\n",
            "67/67 [==============================] - 4s 55ms/step - loss: 1.2374 - accuracy: 0.5791 - val_loss: 1.8332 - val_accuracy: 0.4793\n",
            "Epoch 25/30\n",
            "67/67 [==============================] - 4s 57ms/step - loss: 1.1263 - accuracy: 0.6120 - val_loss: 1.7957 - val_accuracy: 0.4807\n",
            "Epoch 26/30\n",
            "67/67 [==============================] - 4s 55ms/step - loss: 1.1573 - accuracy: 0.6069 - val_loss: 1.8117 - val_accuracy: 0.4940\n",
            "Epoch 27/30\n",
            "67/67 [==============================] - 4s 55ms/step - loss: 0.9924 - accuracy: 0.6472 - val_loss: 1.9672 - val_accuracy: 0.4680\n",
            "Epoch 28/30\n",
            "67/67 [==============================] - 4s 55ms/step - loss: 0.9612 - accuracy: 0.6629 - val_loss: 1.9424 - val_accuracy: 0.4907\n",
            "Epoch 29/30\n",
            "67/67 [==============================] - 4s 56ms/step - loss: 0.8810 - accuracy: 0.6869 - val_loss: 2.0288 - val_accuracy: 0.4967\n",
            "Epoch 30/30\n",
            "67/67 [==============================] - 4s 54ms/step - loss: 0.8809 - accuracy: 0.6902 - val_loss: 2.0033 - val_accuracy: 0.4607\n"
          ]
        }
      ],
      "source": [
        "MyCNN_model_VGG19_transfer_learning_2 = MyCNN_transfer_learning_2(0.3,False,pretrained_model_VGG19_2)\n",
        "\n",
        "MyCNN_model_VGG19_transfer_learning_2.compile(optimizer='Adam',\n",
        "              loss=tf.keras.losses.SparseCategoricalCrossentropy(from_logits=True),\n",
        "              metrics=['accuracy'])\n",
        "\n",
        "MyCNN_VGG19_history_transfer_learning_2 = MyCNN_model_VGG19_transfer_learning_2.fit(x_train, y_train_to20, epochs=30, batch_size=128,\n",
        "                    validation_data=(x_val, y_val_to20))"
      ]
    },
    {
      "cell_type": "markdown",
      "metadata": {
        "id": "JDel-TSigtJE"
      },
      "source": [
        "EfficientNetB0"
      ]
    },
    {
      "cell_type": "code",
      "execution_count": null,
      "metadata": {
        "colab": {
          "base_uri": "https://localhost:8080/"
        },
        "id": "nhZzq0i3gwVQ",
        "outputId": "03015e81-60d4-4ca2-96f0-92f73f518326"
      },
      "outputs": [
        {
          "name": "stdout",
          "output_type": "stream",
          "text": [
            "Epoch 1/20\n",
            "67/67 [==============================] - 8s 59ms/step - loss: 3.0235 - accuracy: 0.0499 - val_loss: 2.9958 - val_accuracy: 0.0453\n",
            "Epoch 2/20\n",
            "67/67 [==============================] - 4s 56ms/step - loss: 2.9960 - accuracy: 0.0501 - val_loss: 2.9961 - val_accuracy: 0.0453\n",
            "Epoch 3/20\n",
            "67/67 [==============================] - 4s 56ms/step - loss: 2.9959 - accuracy: 0.0471 - val_loss: 2.9963 - val_accuracy: 0.0447\n",
            "Epoch 4/20\n",
            "67/67 [==============================] - 4s 55ms/step - loss: 2.9958 - accuracy: 0.0499 - val_loss: 2.9965 - val_accuracy: 0.0420\n",
            "Epoch 5/20\n",
            "67/67 [==============================] - 4s 55ms/step - loss: 2.9958 - accuracy: 0.0521 - val_loss: 2.9967 - val_accuracy: 0.0447\n",
            "Epoch 6/20\n",
            "67/67 [==============================] - 4s 56ms/step - loss: 2.9959 - accuracy: 0.0448 - val_loss: 2.9969 - val_accuracy: 0.0420\n",
            "Epoch 7/20\n",
            "67/67 [==============================] - 4s 56ms/step - loss: 2.9958 - accuracy: 0.0494 - val_loss: 2.9969 - val_accuracy: 0.0447\n",
            "Epoch 8/20\n",
            "67/67 [==============================] - 4s 57ms/step - loss: 2.9959 - accuracy: 0.0476 - val_loss: 2.9969 - val_accuracy: 0.0420\n",
            "Epoch 9/20\n",
            "67/67 [==============================] - 4s 58ms/step - loss: 2.9958 - accuracy: 0.0474 - val_loss: 2.9970 - val_accuracy: 0.0420\n",
            "Epoch 10/20\n",
            "67/67 [==============================] - 4s 56ms/step - loss: 2.9958 - accuracy: 0.0493 - val_loss: 2.9970 - val_accuracy: 0.0420\n",
            "Epoch 11/20\n",
            "67/67 [==============================] - 4s 57ms/step - loss: 2.9958 - accuracy: 0.0476 - val_loss: 2.9971 - val_accuracy: 0.0447\n",
            "Epoch 12/20\n",
            "67/67 [==============================] - 4s 61ms/step - loss: 2.9957 - accuracy: 0.0481 - val_loss: 2.9971 - val_accuracy: 0.0420\n",
            "Epoch 13/20\n",
            "67/67 [==============================] - 4s 55ms/step - loss: 2.9958 - accuracy: 0.0480 - val_loss: 2.9972 - val_accuracy: 0.0420\n",
            "Epoch 14/20\n",
            "67/67 [==============================] - 4s 55ms/step - loss: 2.9958 - accuracy: 0.0514 - val_loss: 2.9972 - val_accuracy: 0.0420\n",
            "Epoch 15/20\n",
            "67/67 [==============================] - 4s 54ms/step - loss: 2.9958 - accuracy: 0.0499 - val_loss: 2.9973 - val_accuracy: 0.0420\n",
            "Epoch 16/20\n",
            "67/67 [==============================] - 4s 56ms/step - loss: 2.9958 - accuracy: 0.0500 - val_loss: 2.9973 - val_accuracy: 0.0420\n",
            "Epoch 17/20\n",
            "67/67 [==============================] - 4s 53ms/step - loss: 2.9957 - accuracy: 0.0504 - val_loss: 2.9972 - val_accuracy: 0.0420\n",
            "Epoch 18/20\n",
            "67/67 [==============================] - 4s 54ms/step - loss: 2.9958 - accuracy: 0.0514 - val_loss: 2.9972 - val_accuracy: 0.0420\n",
            "Epoch 19/20\n",
            "67/67 [==============================] - 4s 55ms/step - loss: 2.9958 - accuracy: 0.0475 - val_loss: 2.9973 - val_accuracy: 0.0420\n",
            "Epoch 20/20\n",
            "67/67 [==============================] - 4s 53ms/step - loss: 2.9958 - accuracy: 0.0514 - val_loss: 2.9973 - val_accuracy: 0.0420\n"
          ]
        }
      ],
      "source": [
        "MyCNN_model_EfficientNetB0_transfer_learning_2 = MyCNN_transfer_learning_2(0.3,False,pretrained_model_EfficientNetB0_2)\n",
        "\n",
        "MyCNN_model_EfficientNetB0_transfer_learning_2.compile(optimizer='Adam',\n",
        "              loss=tf.keras.losses.SparseCategoricalCrossentropy(from_logits=True),\n",
        "              metrics=['accuracy'])\n",
        "\n",
        "MyCNN_EfficientNetB0_history_transfer_learning_2 = MyCNN_model_EfficientNetB0_transfer_learning_2.fit(x_train, y_train_to20, epochs=20, batch_size=128,\n",
        "                    validation_data=(x_val, y_val_to20))"
      ]
    },
    {
      "cell_type": "markdown",
      "metadata": {
        "id": "aXV9yelxZETo"
      },
      "source": [
        "### Αξιολόγηση μοντέλων"
      ]
    },
    {
      "cell_type": "code",
      "execution_count": null,
      "metadata": {
        "colab": {
          "base_uri": "https://localhost:8080/",
          "height": 472
        },
        "id": "23I0A9dQLIi1",
        "outputId": "e1f79c2a-539c-4d97-b0a1-a9343d364722"
      },
      "outputs": [
        {
          "name": "stdout",
          "output_type": "stream",
          "text": [
            "63/63 - 1s - loss: 1.7450 - accuracy: 0.4485 - 1s/epoch - 21ms/step\n"
          ]
        },
        {
          "data": {
            "image/png": "[encoded data removed]",
            "text/plain": [
              "<Figure size 640x480 with 1 Axes>"
            ]
          },
          "metadata": {},
          "output_type": "display_data"
        }
      ],
      "source": [
        "plt.plot(MyCNN_VGG19_history_transfer_learning.history['accuracy'], label='accuracy')\n",
        "plt.plot(MyCNN_VGG19_history_transfer_learning.history['val_accuracy'], label = 'val_accuracy')\n",
        "plt.xlabel('Epoch')\n",
        "plt.ylabel('Accuracy')\n",
        "plt.ylim([0, 1])\n",
        "plt.legend(loc='lower right')\n",
        "\n",
        "MyCNN__test_loss, MyCNN__test_acc = MyCNN_model_VGG19_transfer_learning.evaluate(x_test,  y_test_to20, verbose=2)"
      ]
    },
    {
      "cell_type": "code",
      "execution_count": null,
      "metadata": {
        "colab": {
          "base_uri": "https://localhost:8080/",
          "height": 472
        },
        "id": "6YtCIg8kLuDz",
        "outputId": "a344851a-3308-44d7-8859-77abc13e79a6"
      },
      "outputs": [
        {
          "name": "stdout",
          "output_type": "stream",
          "text": [
            "63/63 - 1s - loss: 2.9959 - accuracy: 0.0500 - 577ms/epoch - 9ms/step\n"
          ]
        },
        {
          "data": {
            "image/png": "[encoded data removed]",
            "text/plain": [
              "<Figure size 640x480 with 1 Axes>"
            ]
          },
          "metadata": {},
          "output_type": "display_data"
        }
      ],
      "source": [
        "plt.plot(MyCNN_EfficientNetB0_history_transfer_learning.history['accuracy'], label='accuracy')\n",
        "plt.plot(MyCNN_EfficientNetB0_history_transfer_learning.history['val_accuracy'], label = 'val_accuracy')\n",
        "plt.xlabel('Epoch')\n",
        "plt.ylabel('Accuracy')\n",
        "plt.ylim([0, 1])\n",
        "plt.legend(loc='lower right')\n",
        "\n",
        "MyCNN__test_loss, MyCNN__test_acc = MyCNN_model_EfficientNetB0_transfer_learning.evaluate(x_test,  y_test_to20, verbose=2)"
      ]
    },
    {
      "cell_type": "code",
      "execution_count": null,
      "metadata": {
        "colab": {
          "base_uri": "https://localhost:8080/",
          "height": 472
        },
        "id": "-ovte0MkLw7U",
        "outputId": "1411da65-5726-4b9c-94f0-c9db69467ba1"
      },
      "outputs": [
        {
          "name": "stdout",
          "output_type": "stream",
          "text": [
            "63/63 - 1s - loss: 1.9782 - accuracy: 0.4780 - 577ms/epoch - 9ms/step\n"
          ]
        },
        {
          "data": {
            "image/png": "[encoded data removed]",
            "text/plain": [
              "<Figure size 640x480 with 1 Axes>"
            ]
          },
          "metadata": {},
          "output_type": "display_data"
        }
      ],
      "source": [
        "plt.plot(MyCNN_VGG19_history_transfer_learning_2.history['accuracy'], label='accuracy')\n",
        "plt.plot(MyCNN_VGG19_history_transfer_learning_2.history['val_accuracy'], label = 'val_accuracy')\n",
        "plt.xlabel('Epoch')\n",
        "plt.ylabel('Accuracy')\n",
        "plt.ylim([0, 1])\n",
        "plt.legend(loc='lower right')\n",
        "\n",
        "MyCNN__test_loss, MyCNN__test_acc = MyCNN_model_VGG19_transfer_learning_2.evaluate(x_test,  y_test_to20, verbose=2)"
      ]
    },
    {
      "cell_type": "code",
      "execution_count": null,
      "metadata": {
        "colab": {
          "base_uri": "https://localhost:8080/",
          "height": 472
        },
        "id": "VEhhZqmgLwpF",
        "outputId": "6edc9c99-6a66-419e-c355-18483d7f4751"
      },
      "outputs": [
        {
          "name": "stdout",
          "output_type": "stream",
          "text": [
            "63/63 - 1s - loss: 2.9958 - accuracy: 0.0500 - 582ms/epoch - 9ms/step\n"
          ]
        },
        {
          "data": {
            "image/png": "[encoded data removed]",
            "text/plain": [
              "<Figure size 640x480 with 1 Axes>"
            ]
          },
          "metadata": {},
          "output_type": "display_data"
        }
      ],
      "source": [
        "plt.plot(MyCNN_EfficientNetB0_history_transfer_learning_2.history['accuracy'], label='accuracy')\n",
        "plt.plot(MyCNN_EfficientNetB0_history_transfer_learning_2.history['val_accuracy'], label = 'val_accuracy')\n",
        "plt.xlabel('Epoch')\n",
        "plt.ylabel('Accuracy')\n",
        "plt.ylim([0, 1])\n",
        "plt.legend(loc='lower right')\n",
        "\n",
        "MyCNN__test_loss, MyCNN__test_acc = MyCNN_model_EfficientNetB0_transfer_learning_2.evaluate(x_test,  y_test_to20, verbose=2)"
      ]
    },
    {
      "cell_type": "markdown",
      "metadata": {
        "id": "KSM0E26FQmV2"
      },
      "source": [
        "Model|Validation Accuracy|Test Accuracy\n",
        "---|---|---\n",
        "1st Pretrained VGG19|0.4787|0.4485\n",
        "2nd Pretrained VGG19|0.4607|0.4780\n",
        "1st Pretrained EfficientNetB0|0.0420|0.0500\n",
        "2nd Pretrained EfficientNetB0|0.0420|0.0500"
      ]
    },
    {
      "cell_type": "markdown",
      "metadata": {
        "id": "WuaVCxXFSrCk"
      },
      "source": [
        "Χρησιμοποιώντας ένα ήδη εκπαιδευμένο μοντέλο κάνοντας μετά fine tuning μπορούμε πολύ πιο γρήγορα να πάρουμε ένα καλά εκπαιδευμένο μοντέλο, αφού εκμεταλλευόμαστε την κάπως \"γενική\" εκπαίδευσή του, και το προσαρμόζουμε στο δικό μας πρόβλημα. Αυτό φαίνεται και από την εκπαίδευση του πρώτου VGG19, όπου η ορθότητα επαλήθευσης μετά την πρώτη εποχή είναι 0.3640.\n",
        "\n",
        "Ωστόσο, όπως δείχνουν οι τιμές ορθότητας στον παραπάνω πίνακα, τελικά στην περίπτωσσή μας δεν φάνηκαν κερδοφόρα, αφού κανένα δεν ξεπέρασε την οθότητα που επιτεύχθηκε στα προηγούμενα ερωτήματα (0.5610)."
      ]
    },
    {
      "cell_type": "markdown",
      "metadata": {
        "id": "M_T6Y9EJDuOu"
      },
      "source": [
        "### Διαχείριση μνήμης (TFRecord)\n",
        "Η φόρτωση δεδομένων με τον τρόπο που το κάναμε παραπάνω στο απλό παράδειγμα υλοποίησης είναι πολύ βολική αλλά δεν είναι αποτελεσματική ως προς τη διαχείριση της μνήμης. Συγκεκριμένα, με τον τρόπο αυτό, τα δεδομένα αποθηκεύονται απευθείας σε μεταβλητές, οι οποίες όλες μαζί καταλαμβάνουν τη RAM της CPU ή της GPU, κάτι που κάνει αδύνατη τη διαχείριση μεγάλων datasets ή τον μεταχηματισμό των δεδομένων όπως όταν κάνουμε αύξηση δεδομένων (data augmentation).\n",
        "\n",
        "Για να παρακαμφθεί αυτό το πρόβλημα, υπάρχει η δυνατότητα της σειριοποίησης των δεδομένων (serialization) και της αποθήκευσής τους σε αρχεία μεσαίου μεγέθους (κάποιων MB) τα οποία μπορούν να αναγνωστούν γραμμικά.\n",
        "\n",
        "Το φορμάτ TFRecord είναι ένα φορμάτ που επιτρέπει την αποθήκευση σειράς δυαδικών εγγραφών. Διαβάστε σχετικά για το [TFRecord and tf.Example](https://www.tensorflow.org/tutorials/load_data/tfrecord) και [tf.data: Build TensorFlow input pipelines](https://www.tensorflow.org/guide/data).\n",
        "\n",
        "Σημειώστε ότι με τη μέθοδο αυτή θα πρέπει να γίνει import η `tensorflow_datasets` και να χρησιμοποιήσουμε την `tfds.load` ώστε να αποθηκευθεί το σύνολο δεδομένων σε αρχεία tfrecord στο δίσκο (δείτε [εδώ](https://colab.research.google.com/github/tensorflow/datasets/blob/master/docs/overview.ipynb) ένα παράδειγμα). Φυσικά μπορούμε να μετατρέψουμε και τα πρωτογενή δεδομένα (raw data) του dataset όπως αρχεία jpg σε φορματ tfrecord όπως [εδώ](https://towardsdatascience.com/working-with-tfrecords-and-tf-train-example-36d111b3ff4d).\n"
      ]
    }
  ],
  "metadata": {
    "colab": {
      "gpuType": "T4",
      "provenance": []
    },
    "gpuClass": "standard",
    "kernelspec": {
      "display_name": "Python 3",
      "name": "python3"
    }
  },
  "nbformat": 4,
  "nbformat_minor": 0
}
